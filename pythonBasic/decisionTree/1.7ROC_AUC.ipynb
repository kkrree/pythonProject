{
 "cells": [
  {
   "cell_type": "code",
   "execution_count": 1,
   "metadata": {},
   "outputs": [
    {
     "data": {
      "text/html": [
       "<div>\n",
       "<style scoped>\n",
       "    .dataframe tbody tr th:only-of-type {\n",
       "        vertical-align: middle;\n",
       "    }\n",
       "\n",
       "    .dataframe tbody tr th {\n",
       "        vertical-align: top;\n",
       "    }\n",
       "\n",
       "    .dataframe thead th {\n",
       "        text-align: right;\n",
       "    }\n",
       "</style>\n",
       "<table border=\"1\" class=\"dataframe\">\n",
       "  <thead>\n",
       "    <tr style=\"text-align: right;\">\n",
       "      <th></th>\n",
       "      <th>age</th>\n",
       "      <th>sex</th>\n",
       "      <th>cp</th>\n",
       "      <th>trestbps</th>\n",
       "      <th>chol</th>\n",
       "      <th>fbs</th>\n",
       "      <th>restecg</th>\n",
       "      <th>thalach</th>\n",
       "      <th>exang</th>\n",
       "      <th>oldpeak</th>\n",
       "      <th>slope</th>\n",
       "      <th>ca</th>\n",
       "      <th>thal</th>\n",
       "      <th>target</th>\n",
       "    </tr>\n",
       "  </thead>\n",
       "  <tbody>\n",
       "    <tr>\n",
       "      <th>0</th>\n",
       "      <td>52</td>\n",
       "      <td>1</td>\n",
       "      <td>0</td>\n",
       "      <td>125</td>\n",
       "      <td>212</td>\n",
       "      <td>0</td>\n",
       "      <td>1</td>\n",
       "      <td>168</td>\n",
       "      <td>0</td>\n",
       "      <td>1.0</td>\n",
       "      <td>2</td>\n",
       "      <td>2</td>\n",
       "      <td>3</td>\n",
       "      <td>0</td>\n",
       "    </tr>\n",
       "    <tr>\n",
       "      <th>1</th>\n",
       "      <td>53</td>\n",
       "      <td>1</td>\n",
       "      <td>0</td>\n",
       "      <td>140</td>\n",
       "      <td>203</td>\n",
       "      <td>1</td>\n",
       "      <td>0</td>\n",
       "      <td>155</td>\n",
       "      <td>1</td>\n",
       "      <td>3.1</td>\n",
       "      <td>0</td>\n",
       "      <td>0</td>\n",
       "      <td>3</td>\n",
       "      <td>0</td>\n",
       "    </tr>\n",
       "    <tr>\n",
       "      <th>2</th>\n",
       "      <td>70</td>\n",
       "      <td>1</td>\n",
       "      <td>0</td>\n",
       "      <td>145</td>\n",
       "      <td>174</td>\n",
       "      <td>0</td>\n",
       "      <td>1</td>\n",
       "      <td>125</td>\n",
       "      <td>1</td>\n",
       "      <td>2.6</td>\n",
       "      <td>0</td>\n",
       "      <td>0</td>\n",
       "      <td>3</td>\n",
       "      <td>0</td>\n",
       "    </tr>\n",
       "    <tr>\n",
       "      <th>3</th>\n",
       "      <td>61</td>\n",
       "      <td>1</td>\n",
       "      <td>0</td>\n",
       "      <td>148</td>\n",
       "      <td>203</td>\n",
       "      <td>0</td>\n",
       "      <td>1</td>\n",
       "      <td>161</td>\n",
       "      <td>0</td>\n",
       "      <td>0.0</td>\n",
       "      <td>2</td>\n",
       "      <td>1</td>\n",
       "      <td>3</td>\n",
       "      <td>0</td>\n",
       "    </tr>\n",
       "    <tr>\n",
       "      <th>4</th>\n",
       "      <td>62</td>\n",
       "      <td>0</td>\n",
       "      <td>0</td>\n",
       "      <td>138</td>\n",
       "      <td>294</td>\n",
       "      <td>1</td>\n",
       "      <td>1</td>\n",
       "      <td>106</td>\n",
       "      <td>0</td>\n",
       "      <td>1.9</td>\n",
       "      <td>1</td>\n",
       "      <td>3</td>\n",
       "      <td>2</td>\n",
       "      <td>0</td>\n",
       "    </tr>\n",
       "  </tbody>\n",
       "</table>\n",
       "</div>"
      ],
      "text/plain": [
       "   age  sex  cp  trestbps  chol  fbs  restecg  thalach  exang  oldpeak  slope  \\\n",
       "0   52    1   0       125   212    0        1      168      0      1.0      2   \n",
       "1   53    1   0       140   203    1        0      155      1      3.1      0   \n",
       "2   70    1   0       145   174    0        1      125      1      2.6      0   \n",
       "3   61    1   0       148   203    0        1      161      0      0.0      2   \n",
       "4   62    0   0       138   294    1        1      106      0      1.9      1   \n",
       "\n",
       "   ca  thal  target  \n",
       "0   2     3       0  \n",
       "1   0     3       0  \n",
       "2   0     3       0  \n",
       "3   1     3       0  \n",
       "4   3     2       0  "
      ]
     },
     "execution_count": 1,
     "metadata": {},
     "output_type": "execute_result"
    }
   ],
   "source": [
    "#ROC와 AUC\n",
    "import pandas as pd\n",
    "\n",
    "df = pd.read_csv('/Users/soojungchoi/pythonProject/pythonBasic/data/heart.csv')\n",
    "df.head()"
   ]
  },
  {
   "cell_type": "code",
   "execution_count": 2,
   "metadata": {},
   "outputs": [
    {
     "name": "stdout",
     "output_type": "stream",
     "text": [
      "Index(['age', 'sex', 'cp', 'trestbps', 'chol', 'fbs', 'restecg', 'thalach',\n",
      "       'exang', 'oldpeak', 'slope', 'ca', 'thal'],\n",
      "      dtype='object')\n"
     ]
    }
   ],
   "source": [
    "train_cols = df.columns[:-1]\n",
    "print(train_cols)\n",
    "X = df[train_cols]\n",
    "y = df['target']"
   ]
  },
  {
   "cell_type": "code",
   "execution_count": 3,
   "metadata": {},
   "outputs": [],
   "source": [
    "#언더샘플링\n",
    "from imblearn.under_sampling import RandomUnderSampler\n",
    "X_sample, y_sample = RandomUnderSampler(random_state=0).fit_resample(X,y)\n",
    "\n",
    "X_samp = pd.DataFrame(data=X_sample, columns=train_cols)\n",
    "y_samp = pd.DataFrame(data=y_sample, columns=['target'])\n",
    "df2 = pd.concat([X_samp,y_samp],axis=1)"
   ]
  },
  {
   "cell_type": "code",
   "execution_count": 4,
   "metadata": {},
   "outputs": [
    {
     "data": {
      "text/plain": [
       "0    499\n",
       "1    499\n",
       "Name: target, dtype: int64"
      ]
     },
     "execution_count": 4,
     "metadata": {},
     "output_type": "execute_result"
    }
   ],
   "source": [
    "df2['target'].value_counts()"
   ]
  },
  {
   "cell_type": "code",
   "execution_count": 5,
   "metadata": {},
   "outputs": [],
   "source": [
    "from sklearn.model_selection import train_test_split\n",
    "X_train, X_test, y_train, y_test = train_test_split(X,y,test_size=0.2,stratify=y,random_state=0)"
   ]
  },
  {
   "cell_type": "code",
   "execution_count": 7,
   "metadata": {},
   "outputs": [
    {
     "data": {
      "text/plain": [
       "LogisticRegression(max_iter=1000, random_state=0)"
      ]
     },
     "execution_count": 7,
     "metadata": {},
     "output_type": "execute_result"
    }
   ],
   "source": [
    "from sklearn.linear_model import LogisticRegression\n",
    "model1 = LogisticRegression(random_state=0, max_iter=1000)\n",
    "model1.fit(X_train,y_train)"
   ]
  },
  {
   "cell_type": "code",
   "execution_count": 8,
   "metadata": {},
   "outputs": [
    {
     "name": "stdout",
     "output_type": "stream",
     "text": [
      "학습용: 0.8524390243902439\n",
      "검증용: 0.824390243902439\n"
     ]
    }
   ],
   "source": [
    "print('학습용:',model1.score(X_train,y_train))\n",
    "print('검증용:',model1.score(X_test,y_test))"
   ]
  },
  {
   "cell_type": "code",
   "execution_count": 9,
   "metadata": {},
   "outputs": [
    {
     "data": {
      "text/plain": [
       "array([-9.88231970e-01, -5.32394404e+00, -4.78772543e+00,  7.35461465e-01,\n",
       "        1.62375198e+00,  2.47049667e+00,  2.53115780e+00,  3.94099666e+00,\n",
       "        1.47479378e+00, -2.53085158e+00, -4.63873579e+00, -2.15825712e+00,\n",
       "       -2.42099864e+00,  2.79920156e+00, -2.83387744e+00,  1.19352560e+00,\n",
       "       -9.29224703e-01,  4.54871215e+00, -2.03432256e+00, -2.03432256e+00,\n",
       "       -2.82099523e+00,  1.05680435e+00, -2.20092670e-01, -2.79031517e+00,\n",
       "       -3.55451501e+00, -3.73016935e+00,  7.35461681e-01,  1.23313227e-03,\n",
       "        1.62660250e+00,  1.33014424e-01,  2.18279451e-02,  2.19234488e+00,\n",
       "        1.74863028e+00,  2.44644122e+00, -5.52132228e-01,  1.29729289e+00,\n",
       "       -2.14274871e+00,  2.29231192e+00,  2.35878828e-01,  3.13058603e+00,\n",
       "       -1.78880052e-02,  1.05188682e+00,  1.77898410e-01,  1.39960565e-01,\n",
       "       -2.39288890e+00,  1.33014424e-01,  1.05188682e+00,  3.01495886e+00,\n",
       "        1.16683040e+00,  1.06788928e+00,  3.77526647e+00,  3.10255726e+00,\n",
       "       -3.13022944e+00,  3.25221495e+00,  3.33918155e+00, -2.90780653e+00,\n",
       "        1.06500149e+00,  3.41582452e+00, -5.32394404e+00,  8.96622515e-01,\n",
       "        1.71106701e+00,  8.40660037e-01,  1.11985424e+00,  1.56503977e+00,\n",
       "       -7.59821930e-01, -5.63429071e+00,  3.37776193e+00, -2.99434121e+00,\n",
       "        1.28421237e-01,  4.82252456e-01, -5.36797830e+00,  3.77526647e+00,\n",
       "       -5.34170497e+00,  3.55094295e+00, -4.75216742e+00, -1.07944764e+00,\n",
       "       -2.57076757e+00,  6.49121285e-02,  1.90797150e-01, -2.70760724e+00,\n",
       "       -2.86762739e+00,  1.04591351e+00,  2.57453287e+00, -5.84095680e-02,\n",
       "       -3.85191242e+00,  3.32109392e+00, -2.04642769e+00, -4.85281200e+00,\n",
       "        7.51535731e-01, -4.40317719e+00, -4.85281200e+00, -2.69711477e+00,\n",
       "       -1.78947498e+00, -9.61473319e-02,  7.35461465e-01, -4.36379215e-01,\n",
       "        2.55760922e+00,  2.26670247e+00,  1.12363531e+00, -3.09980441e+00,\n",
       "        5.38876547e+00, -3.59319635e-01, -1.70596478e+00,  9.24443017e-01,\n",
       "        6.87950076e-01, -4.07177939e+00,  1.50030440e+00, -4.75131144e-01,\n",
       "       -1.18252560e+00,  1.60028934e+00,  3.69698135e+00,  2.35667192e+00,\n",
       "       -5.01030007e+00, -4.88256982e+00,  2.69522191e+00, -6.09436967e+00,\n",
       "        1.05440762e+00,  3.37776193e+00, -4.75216742e+00, -3.90161221e+00,\n",
       "        7.79457685e-01,  4.71061175e+00,  4.32010009e+00,  4.00768207e+00,\n",
       "       -2.71674941e+00, -3.55451501e+00, -6.12938172e+00, -4.13706201e+00,\n",
       "        3.43130963e-01, -5.94941293e+00, -2.85049925e+00,  3.13058603e+00,\n",
       "       -7.10175785e-01, -9.29224703e-01,  5.03450363e-01, -5.82775757e-02,\n",
       "        4.54871215e+00, -4.08789804e+00,  4.27711421e+00, -5.16016025e+00,\n",
       "       -2.58235633e+00, -4.18904045e+00,  3.23434019e+00,  2.40624919e+00,\n",
       "        2.01928533e+00, -1.12478361e+00, -2.13258627e+00, -2.02353808e+00,\n",
       "       -2.58235633e+00,  9.33552196e-01,  1.74415191e+00, -3.68853002e-01,\n",
       "       -1.07944764e+00,  1.39249828e+00, -2.86762739e+00,  3.90612821e+00,\n",
       "        2.18279451e-02, -4.75131144e-01,  1.06500149e+00, -9.61473319e-02,\n",
       "        5.85942524e-01,  3.84633403e+00,  8.98168373e-01, -4.63873579e+00,\n",
       "        5.03450363e-01, -4.78772543e+00,  6.66861928e-01, -4.08789804e+00,\n",
       "       -3.90161221e+00, -2.57076757e+00,  8.77190101e-01, -4.07177939e+00,\n",
       "       -9.48844721e-01,  1.36724617e+00, -2.13258627e+00,  2.38290385e+00,\n",
       "       -5.84095680e-02, -1.12478361e+00,  1.62660250e+00,  1.93924627e+00,\n",
       "        8.96622515e-01, -5.20744869e+00, -1.78947498e+00,  4.32010009e+00,\n",
       "       -2.04642769e+00, -2.70760724e+00,  8.98442966e-01,  2.72379786e+00,\n",
       "       -2.26422822e+00,  3.01495886e+00,  1.32956690e+00, -4.88256982e+00,\n",
       "       -3.03453493e-01,  2.01928533e+00,  2.18279451e-02,  4.82252456e-01,\n",
       "       -4.37817910e+00, -2.90780653e+00,  1.05680435e+00,  1.12363531e+00,\n",
       "       -5.82775757e-02,  2.57453287e+00,  4.39651582e+00, -8.75095011e-01,\n",
       "       -2.84519472e+00])"
      ]
     },
     "execution_count": 9,
     "metadata": {},
     "output_type": "execute_result"
    }
   ],
   "source": [
    "#판별함수 : 음수이면 0, 양수이면 1로 판별함, 0이 판별기준이 됨\n",
    "model1.decision_function(X_test)"
   ]
  },
  {
   "cell_type": "code",
   "execution_count": 10,
   "metadata": {},
   "outputs": [
    {
     "data": {
      "text/plain": [
       "SVC(random_state=0)"
      ]
     },
     "execution_count": 10,
     "metadata": {},
     "output_type": "execute_result"
    }
   ],
   "source": [
    "from sklearn.svm import SVC\n",
    "model2 = SVC(random_state=0)\n",
    "model2.fit(X_train, y_train)"
   ]
  },
  {
   "cell_type": "code",
   "execution_count": 11,
   "metadata": {},
   "outputs": [
    {
     "name": "stdout",
     "output_type": "stream",
     "text": [
      "학습용: 0.7060975609756097\n",
      "검증용: 0.7121951219512195\n"
     ]
    }
   ],
   "source": [
    "print('학습용:',model2.score(X_train,y_train))\n",
    "print('검증용:',model2.score(X_test,y_test))"
   ]
  },
  {
   "cell_type": "code",
   "execution_count": 12,
   "metadata": {},
   "outputs": [
    {
     "data": {
      "text/plain": [
       "array([ 0.68256849, -0.895693  , -0.30945351,  0.20999947,  0.21281229,\n",
       "        0.17007247,  1.06292776,  1.00029023,  0.95585509, -0.49188498,\n",
       "        0.04261438,  0.01763071,  0.61709379,  0.46785936, -0.44021987,\n",
       "       -0.13172799, -0.08805006,  1.77236215, -0.33227155, -0.33227155,\n",
       "       -0.07653775, -0.5393163 , -0.5126289 ,  0.16400183, -1.43939444,\n",
       "       -1.58100457,  0.72533526,  0.0181724 , -0.2212503 ,  1.40888461,\n",
       "        1.38708613,  0.77244492, -0.51813303,  0.44552624,  0.47267085,\n",
       "       -1.16328918,  0.14823395,  1.19855987,  0.3860362 ,  0.48798405,\n",
       "        0.525585  ,  0.92675346,  0.17908726,  0.43641563, -0.66548949,\n",
       "        1.40888461,  0.92675346, -0.49189593, -0.06031742,  1.44240713,\n",
       "        0.47321964,  1.39424825,  0.06082416,  0.7563332 ,  1.012031  ,\n",
       "       -0.83561113,  1.15016622,  0.40504363, -0.895693  ,  0.26560075,\n",
       "       -1.11785566,  0.0039614 , -0.30015003,  0.93496142, -0.52897675,\n",
       "       -0.53686873,  0.64690116, -1.17849197,  0.78507062, -0.19814903,\n",
       "       -1.73710686,  0.47321964, -1.59419443,  0.3329708 , -1.2619184 ,\n",
       "       -0.16085653, -0.06142635,  1.13839412, -1.67655452, -0.38946572,\n",
       "       -1.62983865, -0.15561504, -0.16955639,  1.03961007, -0.38681627,\n",
       "        1.09244405, -2.17018641, -1.58104821, -0.92484083, -0.24103532,\n",
       "       -1.58104821, -1.64248272,  0.15042409,  0.02379908,  0.20999947,\n",
       "        0.7294422 ,  0.6798646 ,  0.55615525, -0.2419162 , -0.21532014,\n",
       "        1.12166747, -0.28474144,  0.31115959,  0.67249286,  0.93757096,\n",
       "       -0.79626439,  0.66132523,  0.10408475, -0.31565664,  0.56128642,\n",
       "        0.23557829,  1.53577679, -0.45912046, -1.54890485,  0.02453061,\n",
       "       -1.11043254,  0.56469956,  0.64690116, -1.2619184 , -0.40453684,\n",
       "        0.55067189,  1.84282132,  0.91910576,  0.1215902 , -0.66592864,\n",
       "       -1.43939444, -0.98231541, -0.52987595, -0.633608  , -1.77126105,\n",
       "        0.13558357,  0.48798405,  0.04897318, -0.08805006,  0.40179346,\n",
       "        0.66136394,  1.77236215,  0.37358363,  0.73938438, -1.12440833,\n",
       "       -0.70447739, -0.89854033, -0.35284249,  0.99004144,  0.6598344 ,\n",
       "        0.27642909, -0.80691687, -1.0002607 , -0.70447739,  0.90120356,\n",
       "        0.30467761, -0.06695291, -0.16085653,  0.33788561, -1.62983865,\n",
       "       -0.3381571 ,  1.38708613,  0.10408475,  1.15016622,  0.02379908,\n",
       "        0.48769759,  0.32776352,  0.23320925,  0.04261438,  0.40179346,\n",
       "       -0.30945351,  0.16624342,  0.37358363, -0.40453684, -0.06142635,\n",
       "       -0.51095841, -0.79626439, -0.42019844,  1.39823918, -0.80691687,\n",
       "       -0.87604242,  1.03961007,  0.27642909, -0.2212503 , -0.1884418 ,\n",
       "        0.26560075, -1.21756191,  0.15042409,  0.91910576, -2.17018641,\n",
       "       -0.38946572,  0.3369104 , -0.86709571, -0.57822037, -0.49189593,\n",
       "        0.53968644, -1.54890485, -0.05702786,  0.6598344 ,  1.38708613,\n",
       "       -0.19814903, -0.34500841, -0.83561113, -0.5393163 , -0.2419162 ,\n",
       "        0.66136394, -0.16955639,  1.37038905,  0.46904495, -1.46282023])"
      ]
     },
     "execution_count": 12,
     "metadata": {},
     "output_type": "execute_result"
    }
   ],
   "source": [
    "model2.decision_function(X_test)"
   ]
  },
  {
   "cell_type": "code",
   "execution_count": 15,
   "metadata": {},
   "outputs": [],
   "source": [
    "%matplotlib inline\n",
    "import matplotlib.pyplot as plt\n",
    "from sklearn.metrics import roc_curve\n",
    "#TPR(True Positive Rate, 민감도) -1을 1로 잘 맞춘 비율, y축\n",
    "#FPR(False Positive Rate, 특이도) -0을 1로 틀린 비율, x축\n",
    "fpr1, tpr1, thresholds1 = roc_curve(y,model1.decision_function(X))\n",
    "fpr2, tpr2, thresholds2 = roc_curve(y,model2.decision_function(X))\n",
    "#면적(0.5~1.0)이 1에 가까울수록(좌측상단 꼭지점에 다가갈 수록) 좋은 모형"
   ]
  },
  {
   "cell_type": "code",
   "execution_count": 16,
   "metadata": {},
   "outputs": [
    {
     "data": {
      "image/png": "[encoded data removed]",
      "text/plain": [
       "<Figure size 432x288 with 1 Axes>"
      ]
     },
     "metadata": {
      "needs_background": "dark"
     },
     "output_type": "display_data"
    }
   ],
   "source": [
    "plt.plot(fpr1, tpr1, 'o-', ms=2, label='LOGIT')\n",
    "plt.plot(fpr2, tpr2, 'o-', ms=2, label='SVM')\n",
    "plt.legend()\n",
    "plt.plot([0,1],[0,1],'k--',label='random guess')\n",
    "plt.xlabel('FPR')\n",
    "plt.ylabel('TPR')\n",
    "plt.title('ROC curve')\n",
    "plt.show()\n",
    "#좌측상단 꼭지점에 가까울 수록 더 좋은 모형"
   ]
  },
  {
   "cell_type": "code",
   "execution_count": 17,
   "metadata": {},
   "outputs": [
    {
     "data": {
      "text/plain": [
       "(0.9231200042670893, 0.7641099689874045)"
      ]
     },
     "execution_count": 17,
     "metadata": {},
     "output_type": "execute_result"
    }
   ],
   "source": [
    "#AUC(Area Under the Curve) : ROC Curve의 면적\n",
    "#1에 가까울수록 좋은 모형\n",
    "from sklearn.metrics import auc\n",
    "auc(fpr1,tpr1),auc(fpr2,tpr2)"
   ]
  }
 ],
 "metadata": {
  "interpreter": {
   "hash": "053d2992ea4a1306d75dbbbe749afeb63994e3a3213349c301f382405d7edb98"
  },
  "kernelspec": {
   "display_name": "Python 3.7.11 ('virt')",
   "language": "python",
   "name": "python3"
  },
  "language_info": {
   "codemirror_mode": {
    "name": "ipython",
    "version": 3
   },
   "file_extension": ".py",
   "mimetype": "text/x-python",
   "name": "python",
   "nbconvert_exporter": "python",
   "pygments_lexer": "ipython3",
   "version": "3.7.11"
  },
  "orig_nbformat": 4
 },
 "nbformat": 4,
 "nbformat_minor": 2
}
