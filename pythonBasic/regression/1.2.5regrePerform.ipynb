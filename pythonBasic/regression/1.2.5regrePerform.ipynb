{
 "cells": [
  {
   "cell_type": "code",
   "execution_count": 4,
   "metadata": {},
   "outputs": [
    {
     "data": {
      "text/plain": [
       "0    -17.934714\n",
       "1     39.638175\n",
       "2     14.893262\n",
       "3    -37.478808\n",
       "4    -40.694820\n",
       "        ...    \n",
       "95   -52.645684\n",
       "96   -18.072076\n",
       "97    12.912314\n",
       "98   -71.981016\n",
       "99   -53.312776\n",
       "Length: 100, dtype: float64"
      ]
     },
     "execution_count": 4,
     "metadata": {},
     "output_type": "execute_result"
    }
   ],
   "source": [
    "#회귀분석 모형의 성능\n",
    "from sklearn.datasets import make_regression\n",
    "import statsmodels.api as sm\n",
    "import pandas as pd\n",
    "\n",
    "X, y, coef = make_regression(\n",
    "    n_samples=100, n_features=1, noise=30, \n",
    "    coef=True, random_state=0\n",
    ")\n",
    "\n",
    "dfX = pd.DataFrame(X, columns=['X'])\n",
    "#dfX = sm.add_constant(dfX0) #..?\n",
    "dfy = pd.DataFrame(y, columns=['Y'])\n",
    "df = pd.concat([dfX,dfy], axis=1)\n",
    "\n",
    "model = sm.OLS.from_formula('Y ~ X', data=df)\n",
    "result = model.fit()\n",
    "result.predict(dfX)\n"
   ]
  },
  {
   "cell_type": "code",
   "execution_count": 5,
   "metadata": {},
   "outputs": [
    {
     "name": "stdout",
     "output_type": "stream",
     "text": [
      "TSS =  291345.7578983061\n",
      "ESS =  188589.61349210917\n",
      "RSS =  102754.33755137533\n",
      "R Squared = 0.6473091780922586\n"
     ]
    }
   ],
   "source": [
    "#Total Sum of Square(종속변수 y의 분산)\n",
    "print('TSS = ', result.uncentered_tss)\n",
    "\n",
    "#Explained Sum of Square(예측값의 분산)\n",
    "print('ESS = ', result.mse_model)\n",
    "\n",
    "#Residual Sum of Square(잔차의 분산, 오차의 크기)\n",
    "#0에 가까울수록 좋은 모형\n",
    "print('RSS = ', result.ssr)\n",
    "\n",
    "#결정계수 : 모형의 설명력(0~1 사이의 값)\n",
    "# 1 - RSS/TSS = ESS/TSS\n",
    "print('R Squared =', result.rsquared)"
   ]
  },
  {
   "cell_type": "code",
   "execution_count": 6,
   "metadata": {},
   "outputs": [
    {
     "name": "stdout",
     "output_type": "stream",
     "text": [
      "                            OLS Regression Results                            \n",
      "==============================================================================\n",
      "Dep. Variable:                      Y   R-squared:                       0.647\n",
      "Model:                            OLS   Adj. R-squared:                  0.644\n",
      "Method:                 Least Squares   F-statistic:                     179.9\n",
      "Date:                Sun, 27 Mar 2022   Prob (F-statistic):           6.60e-24\n",
      "Time:                        00:23:33   Log-Likelihood:                -488.64\n",
      "No. Observations:                 100   AIC:                             981.3\n",
      "Df Residuals:                      98   BIC:                             986.5\n",
      "Df Model:                           1                                         \n",
      "Covariance Type:            nonrobust                                         \n",
      "==============================================================================\n",
      "                 coef    std err          t      P>|t|      [0.025      0.975]\n",
      "------------------------------------------------------------------------------\n",
      "Intercept     -2.4425      3.244     -0.753      0.453      -8.880       3.995\n",
      "X             43.0873      3.213     13.411      0.000      36.712      49.463\n",
      "==============================================================================\n",
      "Omnibus:                        3.523   Durbin-Watson:                   1.984\n",
      "Prob(Omnibus):                  0.172   Jarque-Bera (JB):                2.059\n",
      "Skew:                          -0.073   Prob(JB):                        0.357\n",
      "Kurtosis:                       2.312   Cond. No.                         1.06\n",
      "==============================================================================\n",
      "\n",
      "Notes:\n",
      "[1] Standard Errors assume that the covariance matrix of the errors is correctly specified.\n"
     ]
    }
   ],
   "source": [
    "print(result.summary())"
   ]
  }
 ],
 "metadata": {
  "interpreter": {
   "hash": "053d2992ea4a1306d75dbbbe749afeb63994e3a3213349c301f382405d7edb98"
  },
  "kernelspec": {
   "display_name": "Python 3.7.11 ('virt')",
   "language": "python",
   "name": "python3"
  },
  "language_info": {
   "codemirror_mode": {
    "name": "ipython",
    "version": 3
   },
   "file_extension": ".py",
   "mimetype": "text/x-python",
   "name": "python",
   "nbconvert_exporter": "python",
   "pygments_lexer": "ipython3",
   "version": "3.7.11"
  },
  "orig_nbformat": 4
 },
 "nbformat": 4,
 "nbformat_minor": 2
}
