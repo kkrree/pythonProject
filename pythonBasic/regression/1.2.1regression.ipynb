{
 "cells": [
  {
   "cell_type": "markdown",
   "metadata": {},
   "source": [
    "#### 단순 회귀분석 실습\n",
    "전기생산량(연속형)과 전기사용량(연속형) 예측   \n",
    "연속형, 연속형 > 회귀분석   \n",
    "독립변수(전기생산량) 1개 > 단순 회귀분석   \n",
    "   \n",
    "- 귀무가설 : 전기생산량과 전기소비량 간에 상관관계가 없다.\n",
    "- 대립가설 : 전기생산량과 전기소비량 간에 상관관계가 있다."
   ]
  },
  {
   "cell_type": "code",
   "execution_count": 1,
   "metadata": {},
   "outputs": [
    {
     "name": "stdout",
     "output_type": "stream",
     "text": [
      "Last updated: 2022-03-23T18:21:28.633913+09:00\n",
      "\n",
      "Python implementation: CPython\n",
      "Python version       : 3.7.11\n",
      "IPython version      : 7.32.0\n",
      "\n",
      "Compiler    : Clang 10.0.0 \n",
      "OS          : Darwin\n",
      "Release     : 21.4.0\n",
      "Machine     : x86_64\n",
      "Processor   : i386\n",
      "CPU cores   : 10\n",
      "Architecture: 64bit\n",
      "\n",
      "\n"
     ]
    },
    {
     "name": "stderr",
     "output_type": "stream",
     "text": [
      "UsageError: argument -p/--packages: expected one argument\n"
     ]
    }
   ],
   "source": [
    "import pandas as pd\n",
    "import numpy as np\n",
    "import matplotlib \n",
    "import matplotlib.pyplot as plt\n",
    "import sklearn\n",
    "\n",
    "from scipy import stats\n",
    "#scipy 과학컴퓨팅, 기술컴퓨팅 라이브러리\n",
    "\n",
    "%matplotlib inline\n",
    "\n",
    "#pip install watermark\n",
    "#conda install -c conda-forge watermark\n",
    "\n",
    "%load_ext watermark\n",
    "#watermark extension 로딩\n",
    "\n",
    "%watermark \n",
    "#파이썬 버전, OS, 시스템 정보 출력\n",
    "\n",
    "%watermark -d -t\n",
    "#시스템의 날짜 시간 정보\n",
    "\n",
    "%watermark -p -numpy, scipy, sklearn, pandas, matplotlib"
   ]
  },
  {
   "cell_type": "code",
   "execution_count": 2,
   "metadata": {},
   "outputs": [],
   "source": [
    "#월별 전기 생산금액(억원)\n",
    "x = [3.52, 2.58, 3.31, 4.07, 4.62, 3.98, 4.29, 4.83, 3.71, 4.61, 3.90, 3.20]\n",
    "#월별 전기 사용량(백만Kwh)\n",
    "y = [2.48, 2.27, 2.47, 2.77, 2.98, 3.05, 3.18, 3.46, 3.03, 3.25, 2.67, 2.53]"
   ]
  },
  {
   "cell_type": "markdown",
   "metadata": {},
   "source": [
    "기울기 slope   \n",
    "절편 intercept   \n",
    "상관계수 r_value   \n",
    "예측불확실성 p_value (0.05미만일 때, 통계학적으로 유의미)  \n",
    "에러의 표준편자 stderr (실제값과 예측값의 평균적인 차이)   \n",
    "선형회귀분석 linregress(x:독립변수,y:종속변수)   \n",
    "   \n",
    "   \n",
    "**pvalue가 9.23.....e-0.5이므로 0.05보다 작다**   \n",
    "> e 부동소수점, 과학계산에서 주로 이용 e-05 면 10에 5승을 나누어주고 e+05면 10에 5승을 곱해준다.   \n",
    "\n",
    "귀무가설을 기각하고 **대립가설을 채택** 한다.   \n",
    "   \n",
    "##### 결론\n",
    "전기생산량과 전기소비량간에 상관관계가 있다.   \n",
    "- 상관분석 : 두 변수 간에 어떤 선형적 관계가 있는지 분석\n",
    "- 상관계수(rvalue) : 상관관계의 정도를 파악하는 값 (-1 ~ 1 사이)"
   ]
  },
  {
   "cell_type": "code",
   "execution_count": 4,
   "metadata": {},
   "outputs": [
    {
     "data": {
      "text/plain": [
       "LinregressResult(slope=0.4956032360182905, intercept=0.9195814280689418, rvalue=0.8929235125385305, pvalue=9.238421943157891e-05, stderr=0.07901935226531728, intercept_stderr=0.3110591892275586)"
      ]
     },
     "execution_count": 4,
     "metadata": {},
     "output_type": "execute_result"
    }
   ],
   "source": [
    "result = stats.linregress(x,y)\n",
    "result"
   ]
  },
  {
   "cell_type": "code",
   "execution_count": 20,
   "metadata": {},
   "outputs": [],
   "source": [
    "#slope, intercept, r_value, p_value, stderr, intercept_stderr = stats.linregress(x,y)\n",
    "#ValueError: not enough values to unpack (expected 6, got 5)\n",
    "slope, intercept, r_value, p_value, stderr = stats.linregress(x,y)"
   ]
  },
  {
   "cell_type": "code",
   "execution_count": 23,
   "metadata": {},
   "outputs": [
    {
     "data": {
      "text/plain": [
       "Text(0, 0.5, 'electricity consumption')"
      ]
     },
     "execution_count": 23,
     "metadata": {},
     "output_type": "execute_result"
    },
    {
     "data": {
      "image/png": "[encoded data removed]",
      "text/plain": [
       "<Figure size 432x288 with 1 Axes>"
      ]
     },
     "metadata": {
      "needs_background": "light"
     },
     "output_type": "display_data"
    }
   ],
   "source": [
    "#ss(x,y)\n",
    "# ss? \n",
    "\n",
    "x1 = np.array(x)\n",
    "\n",
    "#산점도 그리기\n",
    "plt.scatter(x,y)\n",
    "\n",
    "#회귀선 그리기\n",
    "plt.plot(x1, slope * x1 + intercept, c='red')\n",
    "\n",
    "plt.xlabel('electricity production') #전기생산량\n",
    "plt.ylabel('electricity consumption') #전기소비량"
   ]
  },
  {
   "cell_type": "code",
   "execution_count": 24,
   "metadata": {},
   "outputs": [
    {
     "data": {
      "text/plain": [
       "2.901994372142104"
      ]
     },
     "execution_count": 24,
     "metadata": {},
     "output_type": "execute_result"
    }
   ],
   "source": [
    "#생산량이 4일 때 전기사용량 예측 y=ax+b\n",
    "4 * slope + intercept"
   ]
  }
 ],
 "metadata": {
  "interpreter": {
   "hash": "053d2992ea4a1306d75dbbbe749afeb63994e3a3213349c301f382405d7edb98"
  },
  "kernelspec": {
   "display_name": "Python 3.7.11 ('virt')",
   "language": "python",
   "name": "python3"
  },
  "language_info": {
   "codemirror_mode": {
    "name": "ipython",
    "version": 3
   },
   "file_extension": ".py",
   "mimetype": "text/x-python",
   "name": "python",
   "nbconvert_exporter": "python",
   "pygments_lexer": "ipython3",
   "version": "3.7.11"
  },
  "orig_nbformat": 4
 },
 "nbformat": 4,
 "nbformat_minor": 2
}
