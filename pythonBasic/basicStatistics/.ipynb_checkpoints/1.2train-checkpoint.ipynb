{
 "cells": [
  {
   "cell_type": "code",
   "execution_count": 1,
   "metadata": {},
   "outputs": [],
   "source": [
    "#기초통계량\n",
    "import numpy as np\n",
    "from scipy import stats\n",
    "\n",
    "data = np.array([4,5,1,2,7,2,6,9,3])"
   ]
  },
  {
   "cell_type": "code",
   "execution_count": 2,
   "metadata": {},
   "outputs": [
    {
     "name": "stdout",
     "output_type": "stream",
     "text": [
      "4.333333333333333\n"
     ]
    }
   ],
   "source": [
    "#평균\n",
    "a = np.mean(data)\n",
    "print(a)"
   ]
  },
  {
   "cell_type": "code",
   "execution_count": 3,
   "metadata": {},
   "outputs": [
    {
     "name": "stdout",
     "output_type": "stream",
     "text": [
      "4.0\n"
     ]
    }
   ],
   "source": [
    "#중위수\n",
    "b = np.median(data)\n",
    "print(b)"
   ]
  },
  {
   "cell_type": "code",
   "execution_count": 5,
   "metadata": {},
   "outputs": [
    {
     "name": "stdout",
     "output_type": "stream",
     "text": [
      "2\n"
     ]
    }
   ],
   "source": [
    "#최빈값\n",
    "c = stats.mode(data)\n",
    "print(c[0][0])"
   ]
  },
  {
   "cell_type": "code",
   "execution_count": 7,
   "metadata": {},
   "outputs": [],
   "source": [
    "from statistics import variance, stdev\n",
    "\n",
    "points = np.array([20,80,90,95,99,97,100,60,70,77,88,89,89,90])"
   ]
  },
  {
   "cell_type": "code",
   "execution_count": 8,
   "metadata": {},
   "outputs": [
    {
     "name": "stdout",
     "output_type": "stream",
     "text": [
      "443\n"
     ]
    }
   ],
   "source": [
    "#분산\n",
    "a = variance(points)\n",
    "print(a)"
   ]
  },
  {
   "cell_type": "code",
   "execution_count": 9,
   "metadata": {},
   "outputs": [
    {
     "name": "stdout",
     "output_type": "stream",
     "text": [
      "21.047565179849187\n"
     ]
    }
   ],
   "source": [
    "#표준편차\n",
    "b = stdev(points)\n",
    "print(b)"
   ]
  },
  {
   "cell_type": "code",
   "execution_count": 10,
   "metadata": {},
   "outputs": [
    {
     "name": "stdout",
     "output_type": "stream",
     "text": [
      "80\n"
     ]
    }
   ],
   "source": [
    "#범위\n",
    "c = np.max(points) - np.min(points)\n",
    "print(c)"
   ]
  },
  {
   "cell_type": "code",
   "execution_count": 12,
   "metadata": {},
   "outputs": [
    {
     "name": "stdout",
     "output_type": "stream",
     "text": [
      "100\n",
      "20\n",
      "80\n"
     ]
    }
   ],
   "source": [
    "#최대, 최소값\n",
    "a = np.max(points)\n",
    "b = np.min(points)\n",
    "c = a - b\n",
    "print(a)\n",
    "print(b)\n",
    "print(c)"
   ]
  },
  {
   "cell_type": "code",
   "execution_count": 13,
   "metadata": {},
   "outputs": [
    {
     "name": "stdout",
     "output_type": "stream",
     "text": [
      "20% 74.2\n",
      "80% 95.8\n",
      "100% 100.0\n"
     ]
    }
   ],
   "source": [
    "#백분위\n",
    "for val in [20,80,100]: \n",
    "    d = np.percentile(points, val)\n",
    "    print(str(val)+'%', d)"
   ]
  },
  {
   "cell_type": "code",
   "execution_count": 14,
   "metadata": {},
   "outputs": [
    {
     "name": "stdout",
     "output_type": "stream",
     "text": [
      "77.75\n",
      "89.0\n",
      "93.75\n",
      "16.0\n"
     ]
    }
   ],
   "source": [
    "#사분위수\n",
    "a,b,c = np.percentile(points,[25,50,75])\n",
    "print(a) #1사분위수\n",
    "print(b) #2사분위수(중위수)\n",
    "print(c) #3사분위수\n",
    "print(c-a) #IQR(InterQuartile Range)"
   ]
  },
  {
   "cell_type": "markdown",
   "metadata": {},
   "source": [
    "--------------"
   ]
  },
  {
   "cell_type": "code",
   "execution_count": 15,
   "metadata": {},
   "outputs": [
    {
     "data": {
      "text/plain": [
       "Power_divergenceResult(statistic=14.200000000000001, pvalue=0.014387678176921308)"
      ]
     },
     "execution_count": 15,
     "metadata": {},
     "output_type": "execute_result"
    }
   ],
   "source": [
    "#카이제곱 검정 : 이산형변수-이산형변수\n",
    "\n",
    "#data1과 data2가 같은지 다른지 알고 싶다.\n",
    "#귀무가설 : 두 데이터는 차이가 없다.\n",
    "#대립가설 : 두 데이터는 차이가 있다.\n",
    "\n",
    "import pandas as pd\n",
    "from scipy import stats\n",
    "\n",
    "\n",
    "data1 = [4,6,17,16,8,9] #관측치\n",
    "data2 = [10,10,10,10,10,10] #기대치\n",
    "chis = stats.chisquare(data1, data2)\n",
    "\n",
    "#검정 통계량과 p-value\n",
    "chis"
   ]
  },
  {
   "cell_type": "code",
   "execution_count": null,
   "metadata": {},
   "outputs": [],
   "source": [
    "#pvalue가 0.05보다 작으므로 귀무가설 기각, 대립가설 채택\n",
    "#두 데이터는 차이가 있다."
   ]
  },
  {
   "cell_type": "code",
   "execution_count": null,
   "metadata": {},
   "outputs": [],
   "source": [
    "#pd.crosstab\n",
    "#stats.chi2_contingency > 결과 0번째, 검정통계량 / 1번째, pvalue / ..."
   ]
  },
  {
   "cell_type": "code",
   "execution_count": 17,
   "metadata": {},
   "outputs": [
    {
     "name": "stdout",
     "output_type": "stream",
     "text": [
      "[188.1217268183162, 176.94121793174963, 177.35914123868272, 174.63515688921916, 184.32703814662338, 168.49230651559859, 188.7240588210824, 176.19396549552448, 181.5951954802855, 178.75314812261294, 187.31053968522488, 169.69929645251173, 178.38791397993245, 178.07972822665792, 185.6688472116772, 174.50054366342985, 179.13785896224783, 175.61070791039313, 180.21106873357797, 182.9140760685791]\n"
     ]
    }
   ],
   "source": [
    "#단일표본 t검정\n",
    "#전체 학생들 중 20명의 학생들을 선택하여 전체 학생들의 평균키가 175cm인지 아닌지 알고 싶다.\n",
    "\n",
    "#귀무가설 : 학생들의 평균키는 175cm이다.\n",
    "#대립가설 : 학생들의 평균키는 175cm가 아니다.\n",
    "\n",
    "import numpy as np\n",
    "from scipy import stats\n",
    "\n",
    "#랜던 시드 설정(같은 결과가 나옴)\n",
    "np.random.seed(1)\n",
    "#np.random.normal(0,5):평균 0, 표준편차 5인 난수\n",
    "heights = [180 + np.random.normal(0,5) for a in range(20)]\n",
    "print(heights)"
   ]
  },
  {
   "cell_type": "code",
   "execution_count": 18,
   "metadata": {},
   "outputs": [
    {
     "name": "stdout",
     "output_type": "stream",
     "text": [
      "검정통계량 : 3.435, p-value : 0.003\n"
     ]
    }
   ],
   "source": [
    "result = stats.ttest_1samp(heights, 175)\n",
    "print('검정통계량 : %.3f, p-value : %.3f' % result)"
   ]
  },
  {
   "cell_type": "code",
   "execution_count": 19,
   "metadata": {},
   "outputs": [
    {
     "name": "stdout",
     "output_type": "stream",
     "text": [
      "Ttest_1sampResult(statistic=3.434767428066461, pvalue=0.00277711459981648)\n"
     ]
    }
   ],
   "source": [
    "print(result)"
   ]
  },
  {
   "cell_type": "code",
   "execution_count": null,
   "metadata": {},
   "outputs": [],
   "source": [
    "#p-value가 0.05보다 작으므로 95%신뢰수준 하에서 학생들의 평균키는 통계적으로 유의하게 차이가 난다고 할 수 있음\n",
    "#따라서 귀무가설을 기각하고 대립가설을 채택한다. 즉, 학생들의 평균키는 175cm가 아니다."
   ]
  },
  {
   "cell_type": "markdown",
   "metadata": {},
   "source": [
    "-----"
   ]
  },
  {
   "cell_type": "code",
   "execution_count": 20,
   "metadata": {},
   "outputs": [
    {
     "name": "stdout",
     "output_type": "stream",
     "text": [
      "[164.4969041139354, 175.72361854919808, 174.50795360296397, 172.51247169450934, 174.50427974632206, 166.58136070412834, 169.38554887240676, 165.32115282870467, 168.66055960186992, 172.65177733369092, 166.54169624137344, 168.0162323657201, 166.564136499402, 165.77397179250642, 166.6437693458159, 169.9366770054055, 164.4134482568236, 171.17207848908546, 178.29901088554936, 173.71022080288668]\n",
      "[173.08164447638384, 166.12371035915163, 167.52841706249163, 191.92454601027748, 175.50807754776028, 168.63004353430648, 176.90915484667465, 196.00255136478842, 176.20158952481628, 181.17203109707418, 178.00170319955828, 171.47750153506482, 163.5748180197786, 171.50657277587123, 172.91105766625222, 180.86623191182198, 183.38983413874504, 184.31102081303558, 177.85587325254258, 183.8514116427073]\n",
      "=======\n",
      "group1의 평균: 169.77084343661494\n",
      "group2의 평균: 177.04138953895512\n"
     ]
    }
   ],
   "source": [
    "#독립표본 t검정 : 이산형변수 2그룹(독립집단) - 연속형변수\n",
    "\n",
    "#그룹1과 그룹2에서 각각 20명의 학생들을 선택하여 평균키가 같은지 다른지 알고싶다.\n",
    "#귀무가설 : 학생들의 평균키는 같다.\n",
    "#대립가설 : 학생들의 평균키는 같지 않다.\n",
    "import numpy as np\n",
    "from scipy import stats\n",
    "\n",
    "#랜덤 시드 설정(같은 결과가 나옴)\n",
    "#np.random(1)\n",
    "#그룹1 : 평균 170, 표준편차 5\n",
    "group1 = [170 + np.random.normal(0,5) for a in range(20)]\n",
    "#그룹2 : 평균 175, 표준편차 10\n",
    "group2 = [175 + np.random.normal(0,10) for a in range(20)]\n",
    "\n",
    "print(group1)\n",
    "print(group2)\n",
    "print('=======')\n",
    "print('group1의 평균:',np.mean(group1))\n",
    "print('group2의 평균:',np.mean(group2))"
   ]
  },
  {
   "cell_type": "code",
   "execution_count": 21,
   "metadata": {},
   "outputs": [
    {
     "name": "stdout",
     "output_type": "stream",
     "text": [
      "검정통계량 : -3.503, p-value : 0.001\n"
     ]
    }
   ],
   "source": [
    "#등분산 가정\n",
    "result1 = stats.ttest_ind(group1,group2)\n",
    "print('검정통계량 : %.3f, p-value : %.3f' % result1)"
   ]
  },
  {
   "cell_type": "code",
   "execution_count": 22,
   "metadata": {},
   "outputs": [
    {
     "name": "stdout",
     "output_type": "stream",
     "text": [
      "검정통계량 : -3.503, p-value : 0.002\n"
     ]
    }
   ],
   "source": [
    "#등분산 가정을 하지 않을 경우\n",
    "result2 = stats.ttest_ind(group1,group2,equal_var=False)\n",
    "print('검정통계량 : %.3f, p-value : %.3f' % result2)"
   ]
  },
  {
   "cell_type": "code",
   "execution_count": null,
   "metadata": {},
   "outputs": [],
   "source": [
    "#p-value가 0.05보다 작으므로 95%신뢰수준 하에서 두 그룹 학생들의 평균키는 통계적으로 유의하게 차이가 난다고 할 수 있다.\n",
    "#따라서 귀무가설을 기각하고 대립가설을 채택한다. 즉, 그룹 1과 그룹 2 학생들의 평균키는 같지 않다."
   ]
  },
  {
   "cell_type": "markdown",
   "metadata": {},
   "source": [
    "---"
   ]
  },
  {
   "cell_type": "code",
   "execution_count": 23,
   "metadata": {},
   "outputs": [
    {
     "name": "stdout",
     "output_type": "stream",
     "text": [
      "[124.02024495905557, 118.44911344891203, 118.3017480806466, 114.64087566784616, 125.32378280453334, 105.92379920102668, 127.1204396605076, 112.85741061344794, 119.72776545730336, 118.82524426737076, 124.27632021674786, 107.73183183276355, 115.57697598991079, 114.9028978955152, 122.72506419040919, 113.32653615756568, 115.28420111796996, 114.99662012668806, 122.99948991817614, 123.50908875588227]\n"
     ]
    }
   ],
   "source": [
    "#대응표본 t검정 : 이산형변수 2그룹(동일한 모집단)-연속형변수\n",
    "\n",
    "#다이어트 약을 복용한 사람들 중 20명을 선택하여 복용 전후의 체중 차이가 유의미한지 알고 싶다.\n",
    "#귀무 가설 : 복용 전후의 체중 차이가 없다.\n",
    "#대립 가설 : 복용 전후의 체중 차이가 있다.\n",
    "\n",
    "import numpy as np\n",
    "from scipy import stats \n",
    "#랜덤 시드 설정(같은 결과가 나옴)\n",
    "np.random.seed(1)\n",
    "\n",
    "#복용전 : 평균 60, 표준편차 5\n",
    "before = [60 + np.random.normal(60,5) for _ in range(20)]\n",
    "\n",
    "#복용후 : 평균 = 복용전 체중 * 0.99, 표준편차 0.02\n",
    "after = [w*np.random.normal(0.99,0.02) for w in before]\n",
    "print(after)"
   ]
  },
  {
   "cell_type": "code",
   "execution_count": 24,
   "metadata": {},
   "outputs": [
    {
     "name": "stdout",
     "output_type": "stream",
     "text": [
      "검정통계량 : 2.941, p-value : 0.008\n"
     ]
    }
   ],
   "source": [
    "#대응표본 t검정\n",
    "result = stats.ttest_rel(before,after)\n",
    "print('검정통계량 : %.3f, p-value : %.3f' % result)"
   ]
  },
  {
   "cell_type": "code",
   "execution_count": null,
   "metadata": {},
   "outputs": [],
   "source": [
    "#p-value가 0.05보다 작으므로 95%신로수준 하에서 다이어트약 복용전후의 체중은 통계적으로 유의하게 차이가 난다고 할 수 있음\n",
    "#따라서 귀무가설을 기각하고 대립가설을 채택한다. 즉, 다이어트약 복용전후의 체중 차이가 있다."
   ]
  },
  {
   "cell_type": "markdown",
   "metadata": {},
   "source": [
    "---"
   ]
  },
  {
   "cell_type": "code",
   "execution_count": 25,
   "metadata": {},
   "outputs": [
    {
     "name": "stdout",
     "output_type": "stream",
     "text": [
      "a 평균: 79.0\n",
      "b 평균: 65.375\n",
      "c 평균: 64.375\n",
      "d 평균: 69.5\n"
     ]
    }
   ],
   "source": [
    "#아노바 분석 : 이산형변수(3그룹이상) - 연속형\n",
    "\n",
    "#김부장은 4개의 각기 다른 신입사원 교육훈련 기법의 효과성을 평가하고자 한다.\n",
    "#새로 입사한 32명의 신입사원에게 4가지 기법을 임의로 적용시켜 교육을 시켰다.\n",
    "#한 달간의 훈련기간이 끝난 후 표준 시험을 쳤는데 그 점수는 아래와 같다.\n",
    "#4개의 교육훈련 기법간 차이가 있는가? 만약 있다면 어떻게 다른가?\n",
    "#3개 이상의 대응표본을 비교해야 하므로 일원배치 분산분석 기법을 사용해야 한다.\n",
    "\n",
    "#귀무 가설 : 4개의 교육훈련 기법간의 차이가 없다.\n",
    "#대립 가설 : 4개의 교육훈력 기법간의 차이가 있다.\n",
    "\n",
    "import scipy.stats as stats\n",
    "import matplotlib.pyplot as plt\n",
    "%matplotlib inline\n",
    "\n",
    "a = [66,74,82,75,73,97,87,78]\n",
    "b = [72,51,59,62,74,64,78,63]\n",
    "c = [61,60,57,60,81,55,70,71]\n",
    "d = [63,61,76,84,58,65,69,80]\n",
    "\n",
    "print('a 평균:', np.mean(a))\n",
    "print('b 평균:', np.mean(b))\n",
    "print('c 평균:', np.mean(c))\n",
    "print('d 평균:', np.mean(d))"
   ]
  },
  {
   "cell_type": "code",
   "execution_count": 26,
   "metadata": {},
   "outputs": [
    {
     "data": {
      "image/png": "[encoded data removed]",
      "text/plain": [
       "<Figure size 432x288 with 1 Axes>"
      ]
     },
     "metadata": {
      "needs_background": "light"
     },
     "output_type": "display_data"
    },
    {
     "name": "stdout",
     "output_type": "stream",
     "text": [
      "4.2210931159803815 0.013933707427484199\n"
     ]
    }
   ],
   "source": [
    "#matplotlib ploting\n",
    "plot_data = [a,b,c,d]\n",
    "\n",
    "ax = plt.boxplot(plot_data)\n",
    "plt.show()\n",
    "f, p = stats.f_oneway(a,b,c,d)\n",
    "print(f,p)"
   ]
  },
  {
   "cell_type": "code",
   "execution_count": null,
   "metadata": {},
   "outputs": [],
   "source": [
    "#p-value가 0.014이므로 95%신뢰수준 하에서 두 집단간 평균은 통계적으로 유의하게 차이가 난다고 할 수 있다.\n",
    "#따라서, 통계적으로 볼 때 4개의 교육훈련 기법 간에는 차이가 난다고 잠정적으로 결론지을 수 있다."
   ]
  },
  {
   "cell_type": "code",
   "execution_count": null,
   "metadata": {},
   "outputs": [],
   "source": [
    "import pandas as pd\n",
    "from scipy import stats \n",
    "\n",
    "#귀무 가설 : 세가지 비료의 수확량은 차이가 없다.\n",
    "#대립 가설 : 세가지 비료의 수확량은 차이가 있다.\n",
    "\n",
    "data = pd.read_csv('data경로')\n",
    "result = stats.f_oneway(data['비료1'],data['비료2'],data['비료3'])\n",
    "print(result[0]) #통계량\n",
    "print(result[1]) #p-value"
   ]
  }
 ],
 "metadata": {
  "interpreter": {
   "hash": "053d2992ea4a1306d75dbbbe749afeb63994e3a3213349c301f382405d7edb98"
  },
  "kernelspec": {
   "display_name": "Python 3 (ipykernel)",
   "language": "python",
   "name": "python3"
  },
  "language_info": {
   "codemirror_mode": {
    "name": "ipython",
    "version": 3
   },
   "file_extension": ".py",
   "mimetype": "text/x-python",
   "name": "python",
   "nbconvert_exporter": "python",
   "pygments_lexer": "ipython3",
   "version": "3.7.11"
  }
 },
 "nbformat": 4,
 "nbformat_minor": 2
}
