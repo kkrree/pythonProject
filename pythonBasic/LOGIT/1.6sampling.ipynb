{
 "cells": [
  {
   "cell_type": "markdown",
   "metadata": {},
   "source": [
    "#### 불균형 데이터 셋 문제(imbalanced data problem)\n",
    "다수 클래스를 택하는 모형의 정확도가 높아져 예측 정확도가 떨어질 수 있음   \n",
    "소수 클래스의 경우 정확도는 높지만 재현율(recall)이 작아질 수 있음    \n",
    "(100개의 샘플이 0 80개, 1 20개로 구성되어 있을 때 0은 다 맞추고 1은 10개를 틀렸을 경우   \n",
    "=>정확도는 90%이지만 20개의 1중에서 10개만 맞췄기때문에 recall은 0.5가 되므로 좋은 모형이라고 할 수 없음)   \n",
    "* precision(정확도) = tp/tp+fp(예측=실제 1/예측1)\n",
    "* recall(재현율) = tp/tp+fn(예측=실제 1/실제1)   \n",
    "불균형 데이터는 언더 샘플링, 오버 샘플링, 복합 샘플링 등의 방법으로 불균형을 해소시킨 후 학습을 시키면 예측 정확도가 향상될 수 있음\n",
    "---"
   ]
  },
  {
   "cell_type": "markdown",
   "metadata": {},
   "source": [
    "1. 불균형 데이터셋"
   ]
  },
  {
   "cell_type": "code",
   "execution_count": 1,
   "metadata": {},
   "outputs": [
    {
     "data": {
      "text/html": [
       "<div>\n",
       "<style scoped>\n",
       "    .dataframe tbody tr th:only-of-type {\n",
       "        vertical-align: middle;\n",
       "    }\n",
       "\n",
       "    .dataframe tbody tr th {\n",
       "        vertical-align: top;\n",
       "    }\n",
       "\n",
       "    .dataframe thead th {\n",
       "        text-align: right;\n",
       "    }\n",
       "</style>\n",
       "<table border=\"1\" class=\"dataframe\">\n",
       "  <thead>\n",
       "    <tr style=\"text-align: right;\">\n",
       "      <th></th>\n",
       "      <th>a</th>\n",
       "      <th>b</th>\n",
       "      <th>y</th>\n",
       "    </tr>\n",
       "  </thead>\n",
       "  <tbody>\n",
       "    <tr>\n",
       "      <th>0</th>\n",
       "      <td>0.222014</td>\n",
       "      <td>0.540207</td>\n",
       "      <td>0</td>\n",
       "    </tr>\n",
       "    <tr>\n",
       "      <th>1</th>\n",
       "      <td>1.347439</td>\n",
       "      <td>1.412824</td>\n",
       "      <td>0</td>\n",
       "    </tr>\n",
       "    <tr>\n",
       "      <th>2</th>\n",
       "      <td>0.537238</td>\n",
       "      <td>0.372730</td>\n",
       "      <td>0</td>\n",
       "    </tr>\n",
       "    <tr>\n",
       "      <th>3</th>\n",
       "      <td>2.134462</td>\n",
       "      <td>1.404819</td>\n",
       "      <td>0</td>\n",
       "    </tr>\n",
       "    <tr>\n",
       "      <th>4</th>\n",
       "      <td>2.315827</td>\n",
       "      <td>1.356858</td>\n",
       "      <td>0</td>\n",
       "    </tr>\n",
       "    <tr>\n",
       "      <th>...</th>\n",
       "      <td>...</td>\n",
       "      <td>...</td>\n",
       "      <td>...</td>\n",
       "    </tr>\n",
       "    <tr>\n",
       "      <th>9995</th>\n",
       "      <td>2.440385</td>\n",
       "      <td>1.695643</td>\n",
       "      <td>0</td>\n",
       "    </tr>\n",
       "    <tr>\n",
       "      <th>9996</th>\n",
       "      <td>-0.790502</td>\n",
       "      <td>0.194243</td>\n",
       "      <td>0</td>\n",
       "    </tr>\n",
       "    <tr>\n",
       "      <th>9997</th>\n",
       "      <td>1.878130</td>\n",
       "      <td>0.829500</td>\n",
       "      <td>0</td>\n",
       "    </tr>\n",
       "    <tr>\n",
       "      <th>9998</th>\n",
       "      <td>2.585933</td>\n",
       "      <td>1.927995</td>\n",
       "      <td>0</td>\n",
       "    </tr>\n",
       "    <tr>\n",
       "      <th>9999</th>\n",
       "      <td>1.123356</td>\n",
       "      <td>1.045755</td>\n",
       "      <td>0</td>\n",
       "    </tr>\n",
       "  </tbody>\n",
       "</table>\n",
       "<p>10000 rows × 3 columns</p>\n",
       "</div>"
      ],
      "text/plain": [
       "             a         b  y\n",
       "0     0.222014  0.540207  0\n",
       "1     1.347439  1.412824  0\n",
       "2     0.537238  0.372730  0\n",
       "3     2.134462  1.404819  0\n",
       "4     2.315827  1.356858  0\n",
       "...        ...       ... ..\n",
       "9995  2.440385  1.695643  0\n",
       "9996 -0.790502  0.194243  0\n",
       "9997  1.878130  0.829500  0\n",
       "9998  2.585933  1.927995  0\n",
       "9999  1.123356  1.045755  0\n",
       "\n",
       "[10000 rows x 3 columns]"
      ]
     },
     "execution_count": 1,
     "metadata": {},
     "output_type": "execute_result"
    }
   ],
   "source": [
    "import pandas as pd\n",
    "from sklearn.datasets import make_classification\n",
    "X,y = make_classification(n_samples=10000, n_features=2,n_redundant=0,n_clusters_per_class=1,weights=[0.99],flip_y=0,random_state=1)\n",
    "dfX=pd.DataFrame(X,columns=['a','b'])\n",
    "dfy=pd.DataFrame(y,columns=['y'])\n",
    "df=pd.concat([dfX,dfy],axis=1)\n",
    "df"
   ]
  },
  {
   "cell_type": "code",
   "execution_count": 2,
   "metadata": {},
   "outputs": [],
   "source": [
    "X1 = df[['a','b']] #독립변수\n",
    "y1 = df['y']"
   ]
  },
  {
   "cell_type": "code",
   "execution_count": null,
   "metadata": {},
   "outputs": [],
   "source": [
    "df['y'].value_counts() #불균형 데이터셋"
   ]
  },
  {
   "cell_type": "code",
   "execution_count": 3,
   "metadata": {},
   "outputs": [
    {
     "data": {
      "text/plain": [
       "LogisticRegression(random_state=42)"
      ]
     },
     "execution_count": 3,
     "metadata": {},
     "output_type": "execute_result"
    }
   ],
   "source": [
    "from sklearn.linear_model import LogisticRegression\n",
    "from sklearn.model_selection import train_test_split\n",
    "\n",
    "X_train, X_test, y_train, y_test = train_test_split(X1, y1, test_size=0.2, stratify=y1, random_state=10)\n",
    "\n",
    "#불균형 데이터셋으로 만든 모형\n",
    "model1 = LogisticRegression(random_state=42)\n",
    "model1.fit(X_train,y_train)"
   ]
  },
  {
   "cell_type": "code",
   "execution_count": 4,
   "metadata": {},
   "outputs": [
    {
     "name": "stdout",
     "output_type": "stream",
     "text": [
      "학습용: 0.994125\n",
      "검증용: 0.995\n"
     ]
    }
   ],
   "source": [
    "print('학습용:',model1.score(X_train,y_train))\n",
    "print('검증용:',model1.score(X_test,y_test))"
   ]
  },
  {
   "cell_type": "code",
   "execution_count": 6,
   "metadata": {},
   "outputs": [
    {
     "data": {
      "text/plain": [
       "array([0, 0, 0, ..., 0, 0, 0])"
      ]
     },
     "execution_count": 6,
     "metadata": {},
     "output_type": "execute_result"
    }
   ],
   "source": [
    "pred1 = model1.predict(X_test)\n",
    "pred1"
   ]
  },
  {
   "cell_type": "code",
   "execution_count": 7,
   "metadata": {},
   "outputs": [
    {
     "data": {
      "text/plain": [
       "array([[1980,    0],\n",
       "       [  10,   10]])"
      ]
     },
     "execution_count": 7,
     "metadata": {},
     "output_type": "execute_result"
    }
   ],
   "source": [
    "from sklearn.metrics import confusion_matrix\n",
    "\n",
    "cm = confusion_matrix(y_test, pred1)\n",
    "cm\n",
    "#score는 0.9945로 높으나 recall의 경우 10/(10+10) = 0.5로 낮아지는 문제가 발생함"
   ]
  },
  {
   "cell_type": "code",
   "execution_count": 8,
   "metadata": {},
   "outputs": [
    {
     "name": "stdout",
     "output_type": "stream",
     "text": [
      "              precision    recall  f1-score   support\n",
      "\n",
      "           0       0.99      1.00      1.00      1980\n",
      "           1       1.00      0.50      0.67        20\n",
      "\n",
      "    accuracy                           0.99      2000\n",
      "   macro avg       1.00      0.75      0.83      2000\n",
      "weighted avg       1.00      0.99      0.99      2000\n",
      "\n"
     ]
    }
   ],
   "source": [
    "from sklearn.metrics import classification_report, confusion_matrix\n",
    "#소수 클래스의 정확도와 Precision , recall, f1-score확인\n",
    "print(classification_report(y_test,pred1))\n",
    "#모형의 전반적인 정확도(accuracy)는 높지만 소수 클래스의 재현율(recall)이 0.5로 낮은 문제점"
   ]
  },
  {
   "cell_type": "code",
   "execution_count": 9,
   "metadata": {},
   "outputs": [],
   "source": [
    "#균형 데이터\n",
    "X,y = make_classification(n_samples=10000, n_features=2,n_redundant=0,n_clusters_per_class=1,flip_y=0,random_state=1)\n",
    "dfX = pd.DataFrame(X,columns=['a','b'])\n",
    "dfy = pd.DataFrame(y,columns=['y'])\n",
    "df2 = pd.concat([dfX,dfy],axis=1)"
   ]
  },
  {
   "cell_type": "code",
   "execution_count": 10,
   "metadata": {},
   "outputs": [
    {
     "data": {
      "text/plain": [
       "0    5000\n",
       "1    5000\n",
       "Name: y, dtype: int64"
      ]
     },
     "execution_count": 10,
     "metadata": {},
     "output_type": "execute_result"
    }
   ],
   "source": [
    "df2['y'].value_counts()"
   ]
  },
  {
   "cell_type": "code",
   "execution_count": 11,
   "metadata": {},
   "outputs": [],
   "source": [
    "X2 = df2[['a','b']] #독립변수\n",
    "y2 = df2['y']"
   ]
  },
  {
   "cell_type": "code",
   "execution_count": 12,
   "metadata": {},
   "outputs": [
    {
     "data": {
      "text/plain": [
       "LogisticRegression(random_state=42)"
      ]
     },
     "execution_count": 12,
     "metadata": {},
     "output_type": "execute_result"
    }
   ],
   "source": [
    "X_train, X_test, y_train, y_test = train_test_split(X2,y2,test_size=0.2, stratify=y2,random_state=10)\n",
    "\n",
    "model2 = LogisticRegression(random_state=42)\n",
    "model2.fit(X_train,y_train)"
   ]
  },
  {
   "cell_type": "code",
   "execution_count": 14,
   "metadata": {},
   "outputs": [
    {
     "name": "stdout",
     "output_type": "stream",
     "text": [
      "학습용: 0.896125\n",
      "검증용: 0.891\n"
     ]
    }
   ],
   "source": [
    "print('학습용:',model2.score(X_train,y_train))\n",
    "print('검증용:',model2.score(X_test,y_test))"
   ]
  },
  {
   "cell_type": "code",
   "execution_count": 15,
   "metadata": {},
   "outputs": [
    {
     "data": {
      "text/plain": [
       "array([1, 1, 0, ..., 0, 1, 0])"
      ]
     },
     "execution_count": 15,
     "metadata": {},
     "output_type": "execute_result"
    }
   ],
   "source": [
    "pred2 = model2.predict(X_test)\n",
    "pred2"
   ]
  },
  {
   "cell_type": "code",
   "execution_count": 16,
   "metadata": {},
   "outputs": [
    {
     "name": "stdout",
     "output_type": "stream",
     "text": [
      "              precision    recall  f1-score   support\n",
      "\n",
      "           0       0.88      0.91      0.89      1000\n",
      "           1       0.90      0.87      0.89      1000\n",
      "\n",
      "    accuracy                           0.89      2000\n",
      "   macro avg       0.89      0.89      0.89      2000\n",
      "weighted avg       0.89      0.89      0.89      2000\n",
      "\n"
     ]
    }
   ],
   "source": [
    "print(classification_report(y_test,pred2))\n",
    "#정확도와 재현율이 비슷하게 처리됨"
   ]
  },
  {
   "cell_type": "code",
   "execution_count": 17,
   "metadata": {},
   "outputs": [
    {
     "data": {
      "text/plain": [
       "(10000, 10000, 2000)"
      ]
     },
     "execution_count": 17,
     "metadata": {},
     "output_type": "execute_result"
    }
   ],
   "source": [
    "len(X1),len(y1),len(pred1)"
   ]
  },
  {
   "cell_type": "code",
   "execution_count": null,
   "metadata": {},
   "outputs": [],
   "source": [
    "#비대칭 데이터는 언더샘플링, 오버샘플링, 복합샘플링 등의 방법으로 데이터 비율을 맞추면 정밀도가 향상된다."
   ]
  },
  {
   "cell_type": "markdown",
   "metadata": {},
   "source": [
    "#### 언더샘플링 vs. 오버샘플링\n",
    "![sampling](https://img1.daumcdn.net/thumb/R1280x0/?scode=mtistory2&fname=https%3A%2F%2Fblog.kakaocdn.net%2Fdn%2F2yuj6%2FbtqGirRpGhD%2FhmIPmKkQ6WMJ0PbpZZ5Wk0%2Fimg.png)  \n",
    "![sampling2](https://www.datasciencecentral.com/wp-content/uploads/2021/10/2808331754.png)    \n",
    "- 데이터가 불균형한 분포를 가지는 경우, 모델의 학습이 제대로 이루어지지 않을 수 있다. 이를 해결하기 위해 Undersampling, Oversampling기법을 이용\n",
    "- Undersamlping : 다수 범주의 데이터를 소수 범주의 데이터 수에 맞게 줄이는 샘플링 방식 \n",
    "    - Random Sampling : 다수 범주에서 무작위로 샘플링\n",
    "    - Tomek Links : 두 범주 사이를 탐지하고 정리, 부정확한 분류경계선을 방지\n",
    "    - CNN Rule : 소수 범주 전체와 다수 범주 중 임의로 선택한 하나의 데이터를 이용, 서비 데이터를 생성\n",
    "    - Ons Sided Selection : Tomek Links + CNN Rule \n",
    "    - 장점 : 다수 범주 데이터의 제거로 계산시간이 감소\n",
    "    - 단점 : 데이터 제거로 인한 정보 손실 발생 가능\n",
    "\n",
    "- Oversampling : 소수 범주의 데이터를 다수 범주의 데이터 수에 맞게 늘리는 샘플링 방식\n",
    "    - Resampling : 소수 범주의 데이터 수를 다수 범주의 데이터 수와 비슷해지도록 증가시키는 방식\n",
    "    - SMOTE : 소수 범주에서 가상의 데이터를 생성하는 방법\n",
    "    - Borderline SMOTE : Borderline 부분에 대해서만 SMOTE방식을 사용\n",
    "    - ADASYN : Borderline SMOTE과 비슷하지만 샘플링 개수를 데이터 위치에 따라 다르게 설정하는 차이가 있음\n",
    "    - GAN : 생성자와 구분자로 구성, 모델은 딥러닝을 사용하는 최신 오버 샘플링 기법\n",
    "    - 장점 : 데이터를 증가시키기 때문에 정보 손실이 없음. 대부분의 경우 언더 샘플링에 비해 높은 분류 정확도\n",
    "    - 단점 : 데이터 증가로 인해 계산 시간이 증가할 수 있으며 과적합 가능성이 존재. 노이즈 또는 이상치에 민감\n",
    "- 출처\n",
    "    - https://hwi-doc.tistory.com/entry/%EC%96%B8%EB%8D%94-%EC%83%98%ED%94%8C%EB%A7%81Undersampling%EA%B3%BC-%EC%98%A4%EB%B2%84-%EC%83%98%ED%94%8C%EB%A7%81Oversampling\n",
    "    - https://casa-de-feel.tistory.com/15\n",
    "    - https://www.datasciencecentral.com/handling-imbalanced-data-sets-in-supervised-learning-using-family/"
   ]
  },
  {
   "cell_type": "code",
   "execution_count": 18,
   "metadata": {},
   "outputs": [],
   "source": [
    "X,y = make_classification(n_samples=10000, n_features=2, n_redundant=0, n_clusters_per_class=1, weights=[0.99], flip_y=0, random_state=1)"
   ]
  },
  {
   "cell_type": "markdown",
   "metadata": {},
   "source": [
    "---\n",
    "2. 언더샘플링 : 데이터의 손실이 크고 중요한 특성을 가진 데이터를 잃을 수 있음"
   ]
  },
  {
   "cell_type": "markdown",
   "metadata": {},
   "source": [
    "RandomUnderSampler   \n",
    "![randomundersampler](https://img1.daumcdn.net/thumb/R1280x0/?scode=mtistory2&fname=https%3A%2F%2Fblog.kakaocdn.net%2Fdn%2FbrBgjg%2FbtrazujrZg6%2FRbK9sY5Ei4s7YaaqvFPUB0%2Fimg.png)"
   ]
  },
  {
   "cell_type": "code",
   "execution_count": 23,
   "metadata": {},
   "outputs": [
    {
     "data": {
      "text/plain": [
       "0    100\n",
       "1    100\n",
       "Name: y, dtype: int64"
      ]
     },
     "execution_count": 23,
     "metadata": {},
     "output_type": "execute_result"
    }
   ],
   "source": [
    "#무작위로 다수 클래스의 데이터를 없애는 단순 샘플링\n",
    "from imblearn.under_sampling import RandomUnderSampler\n",
    "from sklearn.svm import SVC\n",
    "X_sample, y_sample = RandomUnderSampler(random_state=0).fit_resample(X,y)\n",
    "\n",
    "X_samp = pd.DataFrame(data=X_sample,columns=[['a','b']])\n",
    "y_samp = pd.DataFrame(data=y_sample,columns=['y'])\n",
    "y_samp.y.value_counts()"
   ]
  },
  {
   "cell_type": "code",
   "execution_count": 24,
   "metadata": {},
   "outputs": [
    {
     "name": "stderr",
     "output_type": "stream",
     "text": [
      "/opt/homebrew/anaconda3/envs/virt/lib/python3.7/site-packages/sklearn/utils/validation.py:1692: FutureWarning: Feature names only support names that are all strings. Got feature names with dtypes: ['tuple']. An error will be raised in 1.2.\n",
      "  FutureWarning,\n",
      "/opt/homebrew/anaconda3/envs/virt/lib/python3.7/site-packages/sklearn/utils/validation.py:993: DataConversionWarning: A column-vector y was passed when a 1d array was expected. Please change the shape of y to (n_samples, ), for example using ravel().\n",
      "  y = column_or_1d(y, warn=True)\n"
     ]
    },
    {
     "data": {
      "text/plain": [
       "SVC(random_state=42)"
      ]
     },
     "execution_count": 24,
     "metadata": {},
     "output_type": "execute_result"
    }
   ],
   "source": [
    "X_train, X_test, y_train, y_test = train_test_split(X_samp,y_samp,test_size=0.2,stratify=y_samp,random_state=10)\n",
    "model3 = SVC(random_state=42)\n",
    "model3.fit(X_train,y_train)"
   ]
  },
  {
   "cell_type": "code",
   "execution_count": 25,
   "metadata": {},
   "outputs": [
    {
     "name": "stdout",
     "output_type": "stream",
     "text": [
      "학습용: 0.89375\n",
      "검증용: 0.925\n"
     ]
    },
    {
     "name": "stderr",
     "output_type": "stream",
     "text": [
      "/opt/homebrew/anaconda3/envs/virt/lib/python3.7/site-packages/sklearn/utils/validation.py:1692: FutureWarning: Feature names only support names that are all strings. Got feature names with dtypes: ['tuple']. An error will be raised in 1.2.\n",
      "  FutureWarning,\n",
      "/opt/homebrew/anaconda3/envs/virt/lib/python3.7/site-packages/sklearn/utils/validation.py:1692: FutureWarning: Feature names only support names that are all strings. Got feature names with dtypes: ['tuple']. An error will be raised in 1.2.\n",
      "  FutureWarning,\n"
     ]
    }
   ],
   "source": [
    "print('학습용:',model3.score(X_train,y_train))\n",
    "print('검증용:',model3.score(X_test,y_test))"
   ]
  },
  {
   "cell_type": "code",
   "execution_count": 26,
   "metadata": {},
   "outputs": [
    {
     "name": "stderr",
     "output_type": "stream",
     "text": [
      "/opt/homebrew/anaconda3/envs/virt/lib/python3.7/site-packages/sklearn/utils/validation.py:1692: FutureWarning: Feature names only support names that are all strings. Got feature names with dtypes: ['tuple']. An error will be raised in 1.2.\n",
      "  FutureWarning,\n"
     ]
    }
   ],
   "source": [
    "pred3 = model3.predict(X_test)"
   ]
  },
  {
   "cell_type": "code",
   "execution_count": 27,
   "metadata": {},
   "outputs": [
    {
     "name": "stdout",
     "output_type": "stream",
     "text": [
      "              precision    recall  f1-score   support\n",
      "\n",
      "           0       0.95      0.90      0.92        20\n",
      "           1       0.90      0.95      0.93        20\n",
      "\n",
      "    accuracy                           0.93        40\n",
      "   macro avg       0.93      0.93      0.92        40\n",
      "weighted avg       0.93      0.93      0.92        40\n",
      "\n"
     ]
    }
   ],
   "source": [
    "print(classification_report(y_test,pred3))"
   ]
  },
  {
   "cell_type": "markdown",
   "metadata": {},
   "source": [
    "Tomek's Link   \n",
    "![tomeklink1](https://img1.daumcdn.net/thumb/R1280x0/?scode=mtistory2&fname=https%3A%2F%2Fblog.kakaocdn.net%2Fdn%2FbqALfi%2Fbtrat29dNj5%2FKzQBX9IVc5leUsq249Wkh1%2Fimg.png)   \n",
    "![tomeklink2](https://img1.daumcdn.net/thumb/R1280x0/?scode=mtistory2&fname=https%3A%2F%2Fblog.kakaocdn.net%2Fdn%2FvrFpB%2Fbtrav7CriOV%2F40dG0kK9unkJCHuu01RwKK%2Fimg.jpg)\n",
    "![tomeklink3](https://img1.daumcdn.net/thumb/R1280x0/?scode=mtistory2&fname=https%3A%2F%2Fblog.kakaocdn.net%2Fdn%2FbxHJZU%2Fbtrazuw5iqm%2FZOLbCTrhuq5ItwKxeNt3n1%2Fimg.jpg)"
   ]
  },
  {
   "cell_type": "code",
   "execution_count": null,
   "metadata": {},
   "outputs": [],
   "source": [
    "#토멕링크(Tomek's link) : 서로 다른 클래스에 속하는 한 쌍의 데이터\n",
    "#토멕링크 중에서 다수 클래스에 속한 샘플을 제거함으로써 데이터의 균형을 맞추는 방법\n",
    "#'majority' : 다수 클래스의 샘플을 제거\n",
    "#'not minority' : 소수 클래스를 제외하고 샘플링\n",
    "#'not majority' : 다수 클래스를 제외하고 샘플링\n",
    "#'all' : 모든 클래스를 샘플링\n",
    "#'auto' : not minority와 같음(기본 옵션) "
   ]
  },
  {
   "cell_type": "code",
   "execution_count": 28,
   "metadata": {},
   "outputs": [
    {
     "data": {
      "text/plain": [
       "0    9874\n",
       "1     100\n",
       "Name: y, dtype: int64"
      ]
     },
     "execution_count": 28,
     "metadata": {},
     "output_type": "execute_result"
    }
   ],
   "source": [
    "from imblearn.under_sampling import TomekLinks\n",
    "\n",
    "X_sample,y_sample = TomekLinks(sampling_strategy='majority').fit_resample(X,y)\n",
    "\n",
    "X_samp = pd.DataFrame(data=X_sample,columns=['a','b'])\n",
    "y_samp = pd.DataFrame(data=y_sample,columns=['y'])\n",
    "y_samp.y.value_counts()\n",
    "#토멕링크 중에서 다수 클래스의 샘플들을 제거하는 방식, 1:1로 맞추는 방식은 아님"
   ]
  },
  {
   "cell_type": "markdown",
   "metadata": {},
   "source": [
    "CNN Rule   \n",
    "![cnn1](https://img1.daumcdn.net/thumb/R1280x0/?scode=mtistory2&fname=https%3A%2F%2Fblog.kakaocdn.net%2Fdn%2FwdUVi%2FbtrazLyS0go%2FBiKdMbi2kiFa6kuAbckwak%2Fimg.jpg)"
   ]
  },
  {
   "cell_type": "code",
   "execution_count": null,
   "metadata": {},
   "outputs": [],
   "source": [
    "#CNN(Condensed Nearest Neighbour) : 1-NN모형으로 분류되지 않는 데이터만 남기는 방법\n",
    "#다수의 데이터 중에서 하나를 골라서 최근접 이웃이 다수 클래스이면 그 샘플을 빼는 방식\n",
    "#시간이 많이 걸림"
   ]
  },
  {
   "cell_type": "code",
   "execution_count": 29,
   "metadata": {},
   "outputs": [
    {
     "data": {
      "text/plain": [
       "0    187\n",
       "1    100\n",
       "Name: y, dtype: int64"
      ]
     },
     "execution_count": 29,
     "metadata": {},
     "output_type": "execute_result"
    }
   ],
   "source": [
    "from imblearn.under_sampling import CondensedNearestNeighbour\n",
    "\n",
    "X_sample, y_sample = CondensedNearestNeighbour(random_state=0).fit_resample(X,y)\n",
    "\n",
    "X_samp = pd.DataFrame(data=X_sample, columns=['a','b'])\n",
    "y_samp = pd.DataFrame(data=y_sample,columns=['y'])\n",
    "y_samp.y.value_counts()\n",
    "#1:1로 맞춰지지는 않음"
   ]
  },
  {
   "cell_type": "markdown",
   "metadata": {},
   "source": [
    "One Sided Selection   \n",
    "![oss](https://img1.daumcdn.net/thumb/R1280x0/?scode=mtistory2&fname=https%3A%2F%2Fblog.kakaocdn.net%2Fdn%2FJ7rq6%2FbtraBegvVZR%2FeaxdKs5ikiNJOKRSnSBQEK%2Fimg.jpg)"
   ]
  },
  {
   "cell_type": "code",
   "execution_count": null,
   "metadata": {},
   "outputs": [],
   "source": [
    "#One Sided Selection \n",
    "#토멕링크 방법과 CNN방법을 섞은 방식\n",
    "#토멕링크 중 다수 클래스의 샘플을 제거하고 나머지 데이터 중에서도 서로 붙어있는 다수 클래스 데이터는 1-NN방법으로 제외하는 방식"
   ]
  },
  {
   "cell_type": "code",
   "execution_count": 30,
   "metadata": {},
   "outputs": [
    {
     "data": {
      "text/plain": [
       "0    6593\n",
       "1     100\n",
       "Name: y, dtype: int64"
      ]
     },
     "execution_count": 30,
     "metadata": {},
     "output_type": "execute_result"
    }
   ],
   "source": [
    "from imblearn.under_sampling import OneSidedSelection\n",
    "X_sample,y_sample = OneSidedSelection(random_state=0).fit_resample(X,y)\n",
    "\n",
    "X_samp = pd.DataFrame(data=X_sample, columns=['a','b'])\n",
    "y_samp = pd.DataFrame(data=y_sample,columns=['y'])\n",
    "y_samp.y.value_counts()"
   ]
  },
  {
   "cell_type": "markdown",
   "metadata": {},
   "source": [
    "ENN   \n",
    "![enn](https://slideplayer.com/slide/13128031/79/images/14/Editing+Nearest+Neighbor+%28ENN%29.jpg)   \n",
    "출처 : https://slideplayer.com/slide/13128031/"
   ]
  },
  {
   "cell_type": "code",
   "execution_count": null,
   "metadata": {},
   "outputs": [],
   "source": [
    "#ENN(Edited Nearest Neighbours)\n",
    "#다수 클래스 데이터 중 소수 클래스와 가장 가까운 k(n_neighbors)개의 데이터가 모두 또는 다수 클래스가 아니면 삭제하는 방법\n",
    "#소수 클래스 주변의 다수 클래스 데이터는 삭제됨"
   ]
  },
  {
   "cell_type": "code",
   "execution_count": 31,
   "metadata": {},
   "outputs": [
    {
     "data": {
      "text/plain": [
       "0    9747\n",
       "1     100\n",
       "Name: y, dtype: int64"
      ]
     },
     "execution_count": 31,
     "metadata": {},
     "output_type": "execute_result"
    }
   ],
   "source": [
    "from imblearn.under_sampling import EditedNearestNeighbours\n",
    "#kind_sel='all' 모두\n",
    "#kind_sel='mode'다수\n",
    "#5개의 이웃이 모두 같은 클래스가 아니면 그 샘플을 제거함\n",
    "X_sample,y_sample = EditedNearestNeighbours(kind_sel='all',n_neighbors=5).fit_resample(X,y)\n",
    "\n",
    "X_samp = pd.DataFrame(data=X_sample, columns=['a','b'])\n",
    "y_samp = pd.DataFrame(data=y_sample,columns=['y'])\n",
    "y_samp.y.value_counts()"
   ]
  },
  {
   "cell_type": "markdown",
   "metadata": {},
   "source": [
    "NCR   \n",
    "![ncr1](https://player.slideplayer.com/79/13128031/slides/slide_16.jpg)\n",
    "![ncr2](https://player.slideplayer.com/79/13128031/slides/slide_18.jpg)"
   ]
  },
  {
   "cell_type": "code",
   "execution_count": null,
   "metadata": {},
   "outputs": [],
   "source": [
    "#Neighbourhood Cleaning Rule\n",
    "#CNN과 ENN방법을 섞은 것"
   ]
  },
  {
   "cell_type": "code",
   "execution_count": 32,
   "metadata": {},
   "outputs": [
    {
     "data": {
      "text/plain": [
       "0    9721\n",
       "1     100\n",
       "Name: y, dtype: int64"
      ]
     },
     "execution_count": 32,
     "metadata": {},
     "output_type": "execute_result"
    }
   ],
   "source": [
    "from imblearn.under_sampling import NeighbourhoodCleaningRule\n",
    "\n",
    "#kind_sel='all' 모두\n",
    "#kind_sel='mode'다수\n",
    "X_sample,y_sample = NeighbourhoodCleaningRule(kind_sel='all',n_neighbors=5).fit_resample(X,y)\n",
    "\n",
    "X_samp = pd.DataFrame(data=X_sample, columns=['a','b'])\n",
    "y_samp = pd.DataFrame(data=y_sample,columns=['y'])\n",
    "y_samp.y.value_counts()"
   ]
  },
  {
   "cell_type": "markdown",
   "metadata": {},
   "source": [
    "---\n",
    "3. 오버샘플링"
   ]
  },
  {
   "cell_type": "code",
   "execution_count": 33,
   "metadata": {},
   "outputs": [],
   "source": [
    "from sklearn.datasets import make_classification\n",
    "X, y = make_classification(n_samples=10000, n_features=2, n_redundant=0, n_clusters_per_class=1, weights=[0.99], flip_y=0, random_state=1)"
   ]
  },
  {
   "cell_type": "markdown",
   "metadata": {},
   "source": [
    "RandomOverSampler  \n",
    "![resampling](https://img1.daumcdn.net/thumb/R1280x0/?scode=mtistory2&fname=https%3A%2F%2Fblog.kakaocdn.net%2Fdn%2FbLFPVl%2FbtraBUa2mJ3%2FcAMqr8afEfnV6cHePuixAk%2Fimg.jpg)"
   ]
  },
  {
   "cell_type": "code",
   "execution_count": 34,
   "metadata": {},
   "outputs": [
    {
     "data": {
      "text/plain": [
       "0    9900\n",
       "1    9900\n",
       "Name: y, dtype: int64"
      ]
     },
     "execution_count": 34,
     "metadata": {},
     "output_type": "execute_result"
    }
   ],
   "source": [
    "#무작위로 소수 클래스의 데이터를 복제하여 늘리는 방식\n",
    "#정보가 손실되지 않으나 과적합이 될 수 있음\n",
    "from imblearn.over_sampling import RandomOverSampler\n",
    "import pandas as pd \n",
    "\n",
    "X_sample,y_sample = RandomOverSampler(random_state=0).fit_resample(X,y)\n",
    "\n",
    "X_samp = pd.DataFrame(data=X_sample, columns=['a','b'])\n",
    "y_samp = pd.DataFrame(data=y_sample,columns=['y'])\n",
    "y_samp.y.value_counts()"
   ]
  },
  {
   "cell_type": "markdown",
   "metadata": {},
   "source": [
    "ADASYN   \n",
    "![asasyn](https://img1.daumcdn.net/thumb/R1280x0/?scode=mtistory2&fname=https%3A%2F%2Fblog.kakaocdn.net%2Fdn%2FpgDyc%2FbtrazuRlSo8%2FWuex9ZG0jUllFCxR8TO2k0%2Fimg.png)"
   ]
  },
  {
   "cell_type": "code",
   "execution_count": null,
   "metadata": {},
   "outputs": [],
   "source": [
    "#ADASYN(Adaptive Synthetic Sampling)\n",
    "#소수 클래스 데이터와 그 데이터에서 가장 가까운 k개의 소수 클래스 데이터 중 \n",
    "#무작위로 선택된 데이터 사이의 직선상에서 가장의 소수 클래스 데이터를 만드는 방법"
   ]
  },
  {
   "cell_type": "code",
   "execution_count": 35,
   "metadata": {},
   "outputs": [
    {
     "data": {
      "text/plain": [
       "0    9900\n",
       "1    9899\n",
       "Name: y, dtype: int64"
      ]
     },
     "execution_count": 35,
     "metadata": {},
     "output_type": "execute_result"
    }
   ],
   "source": [
    "from imblearn.over_sampling import ADASYN\n",
    "import pandas as pd\n",
    "\n",
    "X_sample,y_sample = ADASYN(random_state=0).fit_resample(X,y)\n",
    "\n",
    "X_samp = pd.DataFrame(data=X_sample, columns=['a','b'])\n",
    "y_samp = pd.DataFrame(data=y_sample,columns=['y'])\n",
    "y_samp.y.value_counts()"
   ]
  },
  {
   "cell_type": "markdown",
   "metadata": {},
   "source": [
    "SMOTE(가장 많이 사용되고 있는 방식)   \n",
    "![smote](https://img1.daumcdn.net/thumb/R1280x0/?scode=mtistory2&fname=https%3A%2F%2Fblog.kakaocdn.net%2Fdn%2FSsZa2%2FbtrawAYCbu2%2FEIDSWOVKfMzDrxdDn6A5n1%2Fimg.jpg)"
   ]
  },
  {
   "cell_type": "code",
   "execution_count": 36,
   "metadata": {},
   "outputs": [
    {
     "data": {
      "text/plain": [
       "0    9900\n",
       "1    9900\n",
       "Name: y, dtype: int64"
      ]
     },
     "execution_count": 36,
     "metadata": {},
     "output_type": "execute_result"
    }
   ],
   "source": [
    "#SMOTE(Synthetic Minority Over-sampling Technique) : 가장 많이 사용되고 있는 방식\n",
    "#소수 클래스 샘플의 k 최근접 이웃을 찾는다.\n",
    "#현재 샘플과 k개 이웃 간의 거리를 구하고 거리에 0~1사이의 임의의 값을 곱하여 소수 클래스의 샘플에 추가\n",
    "#결과적으로 소수 클래스의 샘플을 주변의 이웃을 고려해 약간씩 이동시킨 포인트들을 추가하는 방식\n",
    "from imblearn.over_sampling import SMOTE\n",
    "import pandas as pd\n",
    "\n",
    "X_sample,y_sample = SMOTE(random_state=0).fit_resample(X,y)\n",
    "\n",
    "X_samp = pd.DataFrame(data=X_sample, columns=['a','b'])\n",
    "y_samp = pd.DataFrame(data=y_sample,columns=['y'])\n",
    "y_samp.y.value_counts()\n"
   ]
  },
  {
   "cell_type": "markdown",
   "metadata": {},
   "source": [
    "---\n",
    "4. 복합샘플링"
   ]
  },
  {
   "cell_type": "markdown",
   "metadata": {},
   "source": [
    "SMOTE + ENN     \n",
    "![smoteenn](https://media.springernature.com/original/springer-static/image/chp%3A10.1007%2F978-981-15-6048-4_4/MediaObjects/491575_1_En_4_Fig3_HTML.png)   \n",
    "출처 : https://link.springer.com/chapter/10.1007/978-981-15-6048-4_4"
   ]
  },
  {
   "cell_type": "code",
   "execution_count": null,
   "metadata": {},
   "outputs": [],
   "source": [
    "#SMOTE+ENN \n",
    "#SMOTE : 소수 클래스의 샘플을 주변의 이웃을 고려해 약간씩 이동시킨 포인트들을 추가\n",
    "#ENN : 소수 클래스의 주변의 다수 클래스 데이터를 삭제"
   ]
  },
  {
   "cell_type": "code",
   "execution_count": 37,
   "metadata": {},
   "outputs": [],
   "source": [
    "from sklearn.datasets import make_classification\n",
    "X, y = make_classification(n_samples=10000, n_features=2, n_redundant=0, n_clusters_per_class=1, weights=[0.99], flip_y=0, random_state=1)"
   ]
  },
  {
   "cell_type": "code",
   "execution_count": 38,
   "metadata": {},
   "outputs": [
    {
     "data": {
      "text/plain": [
       "1    8941\n",
       "0    8645\n",
       "Name: y, dtype: int64"
      ]
     },
     "execution_count": 38,
     "metadata": {},
     "output_type": "execute_result"
    }
   ],
   "source": [
    "from imblearn.combine import SMOTEENN\n",
    "import pandas as pd\n",
    "\n",
    "X_sample,y_sample = SMOTEENN(random_state=0).fit_resample(X,y)\n",
    "\n",
    "X_samp = pd.DataFrame(data=X_sample, columns=['a','b'])\n",
    "y_samp = pd.DataFrame(data=y_sample,columns=['y'])\n",
    "y_samp.y.value_counts()"
   ]
  },
  {
   "cell_type": "markdown",
   "metadata": {},
   "source": [
    "SOMTE + TOMEK LINKS   \n",
    "![smotetomek](https://slideplayer.com/slide/13128031/79/images/33/Smote+%2B+Tomek+links.jpg)"
   ]
  },
  {
   "cell_type": "code",
   "execution_count": null,
   "metadata": {},
   "outputs": [],
   "source": [
    "#SMOTE+Tomek\n",
    "#SMOTE : 소수 클래스의 샘플을 주변의 이웃을 고려해 약간씩 이동시킨 포인트들을 추가\n",
    "#토멕링크 : 토멕링크 중에서 다수 클래스의 샘플들을 제거"
   ]
  },
  {
   "cell_type": "code",
   "execution_count": 39,
   "metadata": {},
   "outputs": [
    {
     "data": {
      "text/plain": [
       "0    9653\n",
       "1    9653\n",
       "Name: y, dtype: int64"
      ]
     },
     "execution_count": 39,
     "metadata": {},
     "output_type": "execute_result"
    }
   ],
   "source": [
    "from imblearn.combine import SMOTETomek\n",
    "import pandas as pd\n",
    "\n",
    "X_sample,y_sample = SMOTETomek(random_state=0).fit_resample(X,y)\n",
    "\n",
    "X_samp = pd.DataFrame(data=X_sample, columns=['a','b'])\n",
    "y_samp = pd.DataFrame(data=y_sample,columns=['y'])\n",
    "y_samp.y.value_counts()"
   ]
  }
 ],
 "metadata": {
  "interpreter": {
   "hash": "053d2992ea4a1306d75dbbbe749afeb63994e3a3213349c301f382405d7edb98"
  },
  "kernelspec": {
   "display_name": "Python 3.7.11 ('virt')",
   "language": "python",
   "name": "python3"
  },
  "language_info": {
   "codemirror_mode": {
    "name": "ipython",
    "version": 3
   },
   "file_extension": ".py",
   "mimetype": "text/x-python",
   "name": "python",
   "nbconvert_exporter": "python",
   "pygments_lexer": "ipython3",
   "version": "3.7.11"
  },
  "orig_nbformat": 4
 },
 "nbformat": 4,
 "nbformat_minor": 2
}
