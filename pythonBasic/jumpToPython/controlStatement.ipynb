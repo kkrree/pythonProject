{
 "cells": [
  {
   "attachments": {},
   "cell_type": "markdown",
   "metadata": {},
   "source": [
    "제어문\n",
    "- 조건문\n",
    "- 반복문"
   ]
  },
  {
   "cell_type": "code",
   "execution_count": 1,
   "metadata": {},
   "outputs": [
    {
     "name": "stdout",
     "output_type": "stream",
     "text": [
      "택시타기\n"
     ]
    }
   ],
   "source": [
    "money = True\n",
    "if money: \n",
    "    print('택시타기')\n",
    "else:\n",
    "    print('걷기')\n",
    "# 들여쓰기 잘못쓰면 syntax error"
   ]
  },
  {
   "attachments": {},
   "cell_type": "markdown",
   "metadata": {},
   "source": [
    "if문 뒤,\n",
    "- boolean\n",
    "- 비교연산자\n",
    "- and(&), or(|)\n",
    "- not, in \n",
    "    - if not False: -> True\n",
    "    - if 1 in [1,2,3]: -> True\n",
    "    - if 1 not in [1,2,3]: -> False"
   ]
  },
  {
   "cell_type": "code",
   "execution_count": 2,
   "metadata": {},
   "outputs": [
    {
     "name": "stdout",
     "output_type": "stream",
     "text": [
      "택시타기\n"
     ]
    }
   ],
   "source": [
    "# if문에서 아무것도 실행되지 않게 한다면? -> pass\n",
    "pocket =['paper','cellphone']\n",
    "card = True\n",
    "if 'money' in pocket:\n",
    "    pass\n",
    "elif card: # 다중 조건 판단\n",
    "    print('택시타기')\n",
    "else:\n",
    "    print('걷기')"
   ]
  },
  {
   "cell_type": "code",
   "execution_count": 3,
   "metadata": {},
   "outputs": [
    {
     "name": "stdout",
     "output_type": "stream",
     "text": [
      "success\n"
     ]
    }
   ],
   "source": [
    "# 조건부 표현식(삼항 연상자)\n",
    "score = 70\n",
    "message = 'success' if score >= 60 else 'failure'\n",
    "# true 일 때 결과 / if 조건 / else fales 일 때 결과\n",
    "print(message)"
   ]
  },
  {
   "attachments": {},
   "cell_type": "markdown",
   "metadata": {},
   "source": [
    "반복문\n",
    "- while문\n",
    "- for문"
   ]
  },
  {
   "cell_type": "code",
   "execution_count": 5,
   "metadata": {},
   "outputs": [
    {
     "name": "stdout",
     "output_type": "stream",
     "text": [
      "니무를 1번 찍었다.\n",
      "니무를 2번 찍었다.\n",
      "니무를 3번 찍었다.\n",
      "니무를 4번 찍었다.\n",
      "니무를 5번 찍었다.\n",
      "니무를 6번 찍었다.\n",
      "니무를 7번 찍었다.\n",
      "니무를 8번 찍었다.\n",
      "니무를 9번 찍었다.\n",
      "니무를 10번 찍었다.\n",
      "나무 넘어감\n"
     ]
    }
   ],
   "source": [
    "treeHit = 0\n",
    "while treeHit < 10:\n",
    "    treeHit = treeHit+1 #python 은 ++ 안됨, a+= 1 은 가능\n",
    "    print('니무를 %d번 찍었다.' %treeHit)\n",
    "    if(treeHit == 10):\n",
    "        print('나무 넘어감')\n"
   ]
  }
 ],
 "metadata": {
  "kernelspec": {
   "display_name": "base",
   "language": "python",
   "name": "python3"
  },
  "language_info": {
   "codemirror_mode": {
    "name": "ipython",
    "version": 3
   },
   "file_extension": ".py",
   "mimetype": "text/x-python",
   "name": "python",
   "nbconvert_exporter": "python",
   "pygments_lexer": "ipython3",
   "version": "3.10.9"
  },
  "orig_nbformat": 4
 },
 "nbformat": 4,
 "nbformat_minor": 2
}
