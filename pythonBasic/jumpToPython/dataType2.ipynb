{
 "cells": [
  {
   "attachments": {},
   "cell_type": "markdown",
   "metadata": {},
   "source": [
    "리스트 vs 튜플\n",
    "- 리스트는 대괄호 a = [1,2,3] \n",
    "- 튜플은 소괄호 b = (1,2,3)\n",
    "- 리스트는 변경 가능\n",
    "- 튜플은 변경 불가, 길이도 값도 고정되어 있음"
   ]
  },
  {
   "cell_type": "code",
   "execution_count": 1,
   "metadata": {},
   "outputs": [
    {
     "name": "stdout",
     "output_type": "stream",
     "text": [
      "(1, 2, 'a', 'b', 3, 4)\n",
      "(1, 2, 'a', 'b', 1, 2, 'a', 'b', 1, 2, 'a', 'b')\n"
     ]
    }
   ],
   "source": [
    "# del, insert, append 불가 -> 튜블 변화 불가\n",
    "# index, slice 는 가능 -> 볼 수 는 있다\n",
    "# 더하기, 곱하기 가능\n",
    "t1 = (1,2,'a','b')\n",
    "t2 = (3,4)\n",
    "print(t1+t2) # 각 튜플을 변경한 것이 아닌 두 튜플을 합한 새로운 튜플을 반환\n",
    "print(t1*3)"
   ]
  },
  {
   "attachments": {},
   "cell_type": "markdown",
   "metadata": {},
   "source": [
    "딕셔너리\n",
    "- hash, map, object, json 과 같은 구조\n",
    "- 연관 배열 또는 해시\n",
    "- api 에 자주 활용됨\n",
    "- 키 - 쌍 값의 패턴으로 표현 \n",
    "- key를 통해 value를 얻는다\n",
    "- 순서가 없고 키를 통해 값을 알 수 있다."
   ]
  },
  {
   "cell_type": "code",
   "execution_count": 3,
   "metadata": {},
   "outputs": [
    {
     "data": {
      "text/plain": [
       "'eric'"
      ]
     },
     "execution_count": 3,
     "metadata": {},
     "output_type": "execute_result"
    }
   ],
   "source": [
    "dic = {'name':'eric', 'age' : 21 }\n",
    "dic['name']"
   ]
  },
  {
   "cell_type": "code",
   "execution_count": 6,
   "metadata": {},
   "outputs": [
    {
     "name": "stdout",
     "output_type": "stream",
     "text": [
      "{1: 'a', 'name': 'anoymous'}\n",
      "{1: 'a', 'name': '수정'}\n"
     ]
    }
   ],
   "source": [
    "# dic에 새로운 쌍 추가\n",
    "a = {1:'a'}\n",
    "a['name'] = 'anoymous'\n",
    "print(a)\n",
    "a['name'] = '수정'\n",
    "print(a)"
   ]
  },
  {
   "cell_type": "code",
   "execution_count": 7,
   "metadata": {},
   "outputs": [
    {
     "data": {
      "text/plain": [
       "{'name': '수정'}"
      ]
     },
     "execution_count": 7,
     "metadata": {},
     "output_type": "execute_result"
    }
   ],
   "source": [
    "# dic 요소 삭제\n",
    "del a[1]\n",
    "a"
   ]
  },
  {
   "cell_type": "code",
   "execution_count": 8,
   "metadata": {},
   "outputs": [
    {
     "data": {
      "text/plain": [
       "{1: 'b'}"
      ]
     },
     "execution_count": 8,
     "metadata": {},
     "output_type": "execute_result"
    }
   ],
   "source": [
    "# dic 주의 사항 value는 같이도 key는 중복되면 안된다.\n",
    "a = {1:'a', 1: 'b'}\n",
    "a # 마지막 key 값 만 반환"
   ]
  },
  {
   "cell_type": "code",
   "execution_count": 9,
   "metadata": {},
   "outputs": [
    {
     "name": "stdout",
     "output_type": "stream",
     "text": [
      "dict_keys([1, 2, 3])\n",
      "dict_values(['hi', 'hello', 'annyoung'])\n",
      "dict_items([(1, 'hi'), (2, 'hello'), (3, 'annyoung')])\n"
     ]
    }
   ],
   "source": [
    "# key list 만들기\n",
    "a = {1:'hi',2:'hello',3:'annyoung'}\n",
    "print(a.keys())\n",
    "print(a.values())\n",
    "print(a.items()) # 리스트 안에 튜플 형태로 "
   ]
  },
  {
   "cell_type": "code",
   "execution_count": 13,
   "metadata": {},
   "outputs": [
    {
     "name": "stdout",
     "output_type": "stream",
     "text": [
      "1\n",
      "2\n",
      "3\n",
      "키는 1\n",
      "밸류는 hi\n",
      "키는 2\n",
      "밸류는 hello\n",
      "키는 3\n",
      "밸류는 annyoung\n"
     ]
    }
   ],
   "source": [
    "for k in a.keys():\n",
    "    print(k)\n",
    "    \n",
    "for k,v in a.items():\n",
    "    print('키는 '+str(k))\n",
    "    print('밸류는 '+v)"
   ]
  },
  {
   "cell_type": "code",
   "execution_count": 14,
   "metadata": {},
   "outputs": [
    {
     "data": {
      "text/plain": [
       "{}"
      ]
     },
     "execution_count": 14,
     "metadata": {},
     "output_type": "execute_result"
    }
   ],
   "source": [
    "# dic 비우기\n",
    "a.clear()\n",
    "a"
   ]
  },
  {
   "cell_type": "code",
   "execution_count": 15,
   "metadata": {},
   "outputs": [
    {
     "name": "stdout",
     "output_type": "stream",
     "text": [
      "hi\n",
      "hi\n"
     ]
    }
   ],
   "source": [
    "# dic 요소 가져오기 \n",
    "a = {1:'hi',2:'hello',3:'annyoung'}\n",
    "print(a[1])\n",
    "print(a.get(1))"
   ]
  },
  {
   "cell_type": "code",
   "execution_count": 16,
   "metadata": {},
   "outputs": [
    {
     "ename": "KeyError",
     "evalue": "4",
     "output_type": "error",
     "traceback": [
      "\u001b[0;31m---------------------------------------------------------------------------\u001b[0m",
      "\u001b[0;31mKeyError\u001b[0m                                  Traceback (most recent call last)",
      "Cell \u001b[0;32mIn[16], line 2\u001b[0m\n\u001b[1;32m      1\u001b[0m \u001b[39m# 없는 키값으로 요소를 가져올 때 차이를 갖는다.\u001b[39;00m\n\u001b[0;32m----> 2\u001b[0m \u001b[39mprint\u001b[39m(a[\u001b[39m4\u001b[39;49m])\n",
      "\u001b[0;31mKeyError\u001b[0m: 4"
     ]
    }
   ],
   "source": [
    "# 없는 키값으로 요소를 가져올 때 차이를 갖는다.\n",
    "print(a[4]) # key error"
   ]
  },
  {
   "cell_type": "code",
   "execution_count": 19,
   "metadata": {},
   "outputs": [
    {
     "name": "stdout",
     "output_type": "stream",
     "text": [
      "None\n",
      "없음\n",
      "hi\n"
     ]
    }
   ],
   "source": [
    "print(a.get(4)) # None\n",
    "print(a.get(4,'없음'))\n",
    "print(a.get(1,'없음'))"
   ]
  },
  {
   "cell_type": "code",
   "execution_count": 21,
   "metadata": {},
   "outputs": [
    {
     "name": "stdout",
     "output_type": "stream",
     "text": [
      "True\n",
      "False\n",
      "False\n",
      "False\n"
     ]
    }
   ],
   "source": [
    "# dic 요소 확인\n",
    "print(1 in a)\n",
    "print(4 in a)\n",
    "\n",
    "print('hi' in a) # key 값 요소만 확인한다\n",
    "print('bye' in a) "
   ]
  },
  {
   "attachments": {},
   "cell_type": "markdown",
   "metadata": {},
   "source": [
    "집합\n",
    "- 집합에 관련된 것을 쉽게 처리하기 위해 만들어진 자료형\n",
    "- 중복을 허용하지 않는다. 원소가 각각 고유하다.\n",
    "- 순서가 없다"
   ]
  },
  {
   "cell_type": "code",
   "execution_count": 22,
   "metadata": {},
   "outputs": [
    {
     "name": "stdout",
     "output_type": "stream",
     "text": [
      "<class 'set'>\n",
      "<class 'set'>\n"
     ]
    }
   ],
   "source": [
    "s1 = set([1,2,3]) # set으로 list 감싸기\n",
    "s2 = {1,2,3} # 중괄호로 감싸기\n",
    "print(type(s1))\n",
    "print(type(s2))"
   ]
  },
  {
   "cell_type": "code",
   "execution_count": 23,
   "metadata": {},
   "outputs": [
    {
     "name": "stdout",
     "output_type": "stream",
     "text": [
      "{1, 2, 3}\n"
     ]
    },
    {
     "data": {
      "text/plain": [
       "[1, 2, 3]"
      ]
     },
     "execution_count": 23,
     "metadata": {},
     "output_type": "execute_result"
    }
   ],
   "source": [
    "l = [1,2,2,2,3,3]\n",
    "print(set(l)) # set이 되면서 중복제거\n",
    "newList = list(set(l)) # 중복이 제거된 list 반환\n",
    "newList"
   ]
  },
  {
   "cell_type": "code",
   "execution_count": 24,
   "metadata": {},
   "outputs": [
    {
     "name": "stdout",
     "output_type": "stream",
     "text": [
      "{1, 2, 3}\n",
      "{1, 2, 3}\n"
     ]
    }
   ],
   "source": [
    "# 교집합\n",
    "s1 = set([1,2,3,4,5,6])\n",
    "s2 = {1,2,3,7,8,9} \n",
    "print(s1&s2)\n",
    "print(s1.intersection(s2))"
   ]
  },
  {
   "cell_type": "code",
   "execution_count": 26,
   "metadata": {},
   "outputs": [
    {
     "name": "stdout",
     "output_type": "stream",
     "text": [
      "{1, 2, 3, 4, 5, 6, 7, 8, 9}\n",
      "{1, 2, 3, 4, 5, 6, 7, 8, 9}\n"
     ]
    }
   ],
   "source": [
    "# 합집합\n",
    "s1 = set([1,2,3,4,5,6])\n",
    "s2 = {1,2,3,7,8,9} \n",
    "print(s1|s2)\n",
    "print(s1.union(s2))"
   ]
  },
  {
   "cell_type": "code",
   "execution_count": 29,
   "metadata": {},
   "outputs": [
    {
     "name": "stdout",
     "output_type": "stream",
     "text": [
      "{4, 5, 6}\n",
      "{4, 5, 6}\n",
      "{8, 9, 7}\n",
      "{8, 9, 7}\n"
     ]
    }
   ],
   "source": [
    "# 차집합\n",
    "s1 = set([1,2,3,4,5,6])\n",
    "s2 = {1,2,3,7,8,9} \n",
    "print(s1-s2)\n",
    "print(s1.difference(s2))\n",
    "\n",
    "print(s2-s1)\n",
    "print(s2.difference(s1))"
   ]
  },
  {
   "cell_type": "code",
   "execution_count": 30,
   "metadata": {},
   "outputs": [
    {
     "data": {
      "text/plain": [
       "{1, 2, 3, 4, 5, 6, 7}"
      ]
     },
     "execution_count": 30,
     "metadata": {},
     "output_type": "execute_result"
    }
   ],
   "source": [
    "# 집합 요소 추가\n",
    "s1 = set([1,2,3,4,5,6])\n",
    "s1.add(7)\n",
    "s1"
   ]
  },
  {
   "cell_type": "code",
   "execution_count": 32,
   "metadata": {},
   "outputs": [
    {
     "data": {
      "text/plain": [
       "{1, 2, 3, 4, 5, 6, 7, 8, 9, 10}"
      ]
     },
     "execution_count": 32,
     "metadata": {},
     "output_type": "execute_result"
    }
   ],
   "source": [
    "s1.update([7,8,9,10])\n",
    "s1"
   ]
  },
  {
   "cell_type": "code",
   "execution_count": 33,
   "metadata": {},
   "outputs": [
    {
     "data": {
      "text/plain": [
       "{2, 3, 4, 5, 6, 7, 8, 9, 10}"
      ]
     },
     "execution_count": 33,
     "metadata": {},
     "output_type": "execute_result"
    }
   ],
   "source": [
    "# 집합 요소 제거\n",
    "s1.remove(1)\n",
    "s1"
   ]
  },
  {
   "attachments": {},
   "cell_type": "markdown",
   "metadata": {},
   "source": [
    "boolean\n",
    "- True, False"
   ]
  },
  {
   "cell_type": "code",
   "execution_count": 34,
   "metadata": {},
   "outputs": [
    {
     "name": "stdout",
     "output_type": "stream",
     "text": [
      "True\n"
     ]
    }
   ],
   "source": [
    "a = True\n",
    "print(type(a))"
   ]
  },
  {
   "cell_type": "code",
   "execution_count": 37,
   "metadata": {},
   "outputs": [
    {
     "name": "stdout",
     "output_type": "stream",
     "text": [
      "True안녕\n"
     ]
    }
   ],
   "source": [
    "# 빈 문자열, 리스트, 튜플, 집합 -> False, 값을 가지면 -> True\n",
    "a = '안녕'\n",
    "if a:\n",
    "    print('True: '+a)\n",
    "\n",
    "b = []\n",
    "if b:\n",
    "    print('Fales'+b)"
   ]
  },
  {
   "cell_type": "code",
   "execution_count": 38,
   "metadata": {},
   "outputs": [
    {
     "name": "stdout",
     "output_type": "stream",
     "text": [
      "[1, 2, 3]\n",
      "[1, 2]\n",
      "[1]\n",
      "[]\n"
     ]
    }
   ],
   "source": [
    "a = [1,2,3,4]\n",
    "while a:\n",
    "    a.pop()\n",
    "    print(a)"
   ]
  },
  {
   "attachments": {},
   "cell_type": "markdown",
   "metadata": {},
   "source": [
    "변수는 주소를 가짐   \n",
    "해당 주소를 가진 메모리에 변수의 값을 저장해 놓은 형태   \n",
    "<img src=\"/Users/soojungchoi/pythonProject/pythonBasic/jumpToPython/var1.png\" width=\"300\" height=\"200\"/>   \n",
    "\n",
    "\n",
    "    \n",
    "a = 3   \n",
    "- 3이라는 값을 가지는 정수 자료형(객체)이 자동으로 메모리에 생성\n",
    "- 변수 a는 객체가 저장된 메모리의 위치를 가리키는 레퍼런스\n",
    "- a라는 변수는 3이라는 정수형 객체를 가리킴   \n",
    "\n",
    "<img src=\"/Users/soojungchoi/pythonProject/pythonBasic/jumpToPython/var2.png\" width=\"500\" height=\"300\"/> "
   ]
  },
  {
   "cell_type": "code",
   "execution_count": 39,
   "metadata": {},
   "outputs": [
    {
     "name": "stdout",
     "output_type": "stream",
     "text": [
      "[1, 4, 3]\n",
      "[1, 4, 3]\n",
      "4579038400\n",
      "4579038400\n",
      "True\n"
     ]
    }
   ],
   "source": [
    "a = [1,2,3]\n",
    "b = a\n",
    "a[1] = 4\n",
    "print(a)\n",
    "print(b)\n",
    "print(id(a))\n",
    "print(id(b))\n",
    "print(a is b) # a와 b가 같은 주소를 가지는 가"
   ]
  },
  {
   "cell_type": "code",
   "execution_count": 40,
   "metadata": {},
   "outputs": [
    {
     "name": "stdout",
     "output_type": "stream",
     "text": [
      "[1, 4, 3]\n",
      "[1, 2, 3]\n",
      "4578961536\n",
      "4578987456\n",
      "False\n"
     ]
    }
   ],
   "source": [
    "a = [1,2,3]\n",
    "b = a[:] # 슬라이싱해서 값을 전달, 새로운 리스트로 전달\n",
    "a[1] = 4\n",
    "print(a)\n",
    "print(b)\n",
    "print(id(a))\n",
    "print(id(b))\n",
    "print(a is b)"
   ]
  },
  {
   "cell_type": "code",
   "execution_count": 41,
   "metadata": {},
   "outputs": [
    {
     "name": "stdout",
     "output_type": "stream",
     "text": [
      "[1, 4, 3]\n",
      "[1, 2, 3]\n",
      "4579031680\n",
      "4579039232\n",
      "False\n"
     ]
    }
   ],
   "source": [
    "from copy import copy\n",
    "a = [1,2,3]\n",
    "b = copy(a) # 값을 복사하여 전달\n",
    "a[1] = 4\n",
    "print(a)\n",
    "print(b)\n",
    "print(id(a))\n",
    "print(id(b))\n",
    "print(a is b)"
   ]
  },
  {
   "cell_type": "code",
   "execution_count": null,
   "metadata": {},
   "outputs": [],
   "source": []
  }
 ],
 "metadata": {
  "kernelspec": {
   "display_name": "base",
   "language": "python",
   "name": "python3"
  },
  "language_info": {
   "codemirror_mode": {
    "name": "ipython",
    "version": 3
   },
   "file_extension": ".py",
   "mimetype": "text/x-python",
   "name": "python",
   "nbconvert_exporter": "python",
   "pygments_lexer": "ipython3",
   "version": "3.10.9"
  },
  "orig_nbformat": 4
 },
 "nbformat": 4,
 "nbformat_minor": 2
}
